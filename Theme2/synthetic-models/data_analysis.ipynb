{
 "cells": [
  {
   "cell_type": "code",
   "execution_count": 3,
   "metadata": {},
   "outputs": [],
   "source": [
    "import numpy as np\n",
    "import onnxruntime as ort\n",
    "import onnx\n",
    "from onnx.checker import check_model\n",
    "from onnx.tools import update_model_dims\n",
    "import glob\n",
    "import pathlib\n",
    "import warnings\n",
    "import torch\n",
    "import json\n",
    "import pandas as pd\n",
    "from tqdm import tqdm"
   ]
  },
  {
   "attachments": {},
   "cell_type": "markdown",
   "metadata": {},
   "source": [
    "# PT Processing"
   ]
  },
  {
   "cell_type": "code",
   "execution_count": 23,
   "metadata": {},
   "outputs": [],
   "source": [
    "pt_results = pd.read_json('./random_pt.json')"
   ]
  },
  {
   "attachments": {},
   "cell_type": "markdown",
   "metadata": {},
   "source": [
    "## Conv Errors"
   ]
  },
  {
   "cell_type": "code",
   "execution_count": 24,
   "metadata": {},
   "outputs": [
    {
     "data": {
      "text/plain": [
       "190"
      ]
     },
     "execution_count": 24,
     "metadata": {},
     "output_type": "execute_result"
    }
   ],
   "source": [
    "pt_results.loc[pt_results['error'] == 1].shape[0]"
   ]
  },
  {
   "cell_type": "code",
   "execution_count": 25,
   "metadata": {},
   "outputs": [
    {
     "name": "stdout",
     "output_type": "stream",
     "text": [
      "0 RuntimeError: ScalarType ComplexDouble is an unexpected tensor scalar type\n",
      "1 RuntimeError: ScalarType ComplexDouble is an unexpected tensor scalar type\n",
      "2 RuntimeError: ScalarType ComplexDouble is an unexpected tensor scalar type\n",
      "3 RuntimeError: ScalarType ComplexFloat is an unexpected tensor scalar type\n",
      "4 RuntimeError: ScalarType ComplexFloat is an unexpected tensor scalar type\n",
      "5 RuntimeError: ScalarType ComplexFloat is an unexpected tensor scalar type\n",
      "6 RuntimeError: ScalarType ComplexDouble is an unexpected tensor scalar type\n",
      "7 RuntimeError: ScalarType ComplexDouble is an unexpected tensor scalar type\n",
      "8 RuntimeError: ScalarType ComplexDouble is an unexpected tensor scalar type\n",
      "9 RuntimeError: ScalarType ComplexDouble is an unexpected tensor scalar type\n",
      "10 RuntimeError: ScalarType ComplexFloat is an unexpected tensor scalar type\n",
      "11 RuntimeError: ScalarType ComplexDouble is an unexpected tensor scalar type\n",
      "12 RuntimeError: ScalarType ComplexDouble is an unexpected tensor scalar type\n",
      "13 RuntimeError: ScalarType ComplexFloat is an unexpected tensor scalar type\n",
      "14 RuntimeError: ScalarType ComplexFloat is an unexpected tensor scalar type\n",
      "15 RuntimeError: ScalarType ComplexFloat is an unexpected tensor scalar type\n",
      "16 RuntimeError: ScalarType ComplexDouble is an unexpected tensor scalar type\n",
      "17 RuntimeError: ScalarType ComplexFloat is an unexpected tensor scalar type\n",
      "18 RuntimeError: ScalarType ComplexFloat is an unexpected tensor scalar type\n",
      "19 RuntimeError: ScalarType ComplexFloat is an unexpected tensor scalar type\n",
      "20 RuntimeError: ScalarType ComplexFloat is an unexpected tensor scalar type\n",
      "21 RuntimeError: ScalarType ComplexDouble is an unexpected tensor scalar type\n",
      "22 RuntimeError: ScalarType ComplexFloat is an unexpected tensor scalar type\n",
      "23 RuntimeError: ScalarType ComplexDouble is an unexpected tensor scalar type\n",
      "24 RuntimeError: ScalarType ComplexDouble is an unexpected tensor scalar type\n",
      "25 RuntimeError: ScalarType ComplexDouble is an unexpected tensor scalar type\n",
      "26 RuntimeError: ScalarType ComplexFloat is an unexpected tensor scalar type\n",
      "27 RuntimeError: ScalarType ComplexDouble is an unexpected tensor scalar type\n",
      "28 RuntimeError: ScalarType ComplexFloat is an unexpected tensor scalar type\n",
      "29 RuntimeError: ScalarType ComplexFloat is an unexpected tensor scalar type\n",
      "30 RuntimeError: ScalarType ComplexDouble is an unexpected tensor scalar type\n",
      "31 RuntimeError: ScalarType ComplexDouble is an unexpected tensor scalar type\n",
      "32 RuntimeError: ScalarType ComplexDouble is an unexpected tensor scalar type\n",
      "33 RuntimeError: ScalarType ComplexDouble is an unexpected tensor scalar type\n",
      "34 RuntimeError: ScalarType ComplexDouble is an unexpected tensor scalar type\n",
      "35 RuntimeError: ScalarType ComplexFloat is an unexpected tensor scalar type\n",
      "36 RuntimeError: ScalarType ComplexDouble is an unexpected tensor scalar type\n",
      "37 RuntimeError: ScalarType ComplexFloat is an unexpected tensor scalar type\n",
      "38 RuntimeError: ScalarType ComplexDouble is an unexpected tensor scalar type\n",
      "39 RuntimeError: ScalarType ComplexDouble is an unexpected tensor scalar type\n",
      "40 RuntimeError: ScalarType ComplexDouble is an unexpected tensor scalar type\n",
      "41 RuntimeError: ScalarType ComplexFloat is an unexpected tensor scalar type\n",
      "42 RuntimeError: ScalarType ComplexDouble is an unexpected tensor scalar type\n",
      "43 RuntimeError: ScalarType ComplexDouble is an unexpected tensor scalar type\n",
      "44 RuntimeError: ScalarType ComplexFloat is an unexpected tensor scalar type\n",
      "45 RuntimeError: ScalarType ComplexDouble is an unexpected tensor scalar type\n",
      "46 RuntimeError: ScalarType ComplexDouble is an unexpected tensor scalar type\n",
      "47 RuntimeError: ScalarType ComplexDouble is an unexpected tensor scalar type\n",
      "48 RuntimeError: ScalarType ComplexDouble is an unexpected tensor scalar type\n",
      "49 RuntimeError: ScalarType ComplexDouble is an unexpected tensor scalar type\n",
      "50 RuntimeError: ScalarType ComplexDouble is an unexpected tensor scalar type\n",
      "51 RuntimeError: ScalarType ComplexDouble is an unexpected tensor scalar type\n",
      "52 RuntimeError: ScalarType ComplexFloat is an unexpected tensor scalar type\n",
      "53 RuntimeError: ScalarType ComplexDouble is an unexpected tensor scalar type\n",
      "54 RuntimeError: ScalarType ComplexFloat is an unexpected tensor scalar type\n",
      "55 RuntimeError: ScalarType ComplexFloat is an unexpected tensor scalar type\n",
      "56 RuntimeError: ScalarType ComplexDouble is an unexpected tensor scalar type\n",
      "57 RuntimeError: ScalarType ComplexFloat is an unexpected tensor scalar type\n",
      "58 RuntimeError: ScalarType ComplexDouble is an unexpected tensor scalar type\n",
      "59 RuntimeError: ScalarType ComplexDouble is an unexpected tensor scalar type\n",
      "60 RuntimeError: ScalarType ComplexFloat is an unexpected tensor scalar type\n",
      "61 RuntimeError: ScalarType ComplexFloat is an unexpected tensor scalar type\n",
      "62 RuntimeError: ScalarType ComplexDouble is an unexpected tensor scalar type\n",
      "63 RuntimeError: ScalarType ComplexFloat is an unexpected tensor scalar type\n",
      "64 RuntimeError: ScalarType ComplexFloat is an unexpected tensor scalar type\n",
      "65 RuntimeError: ScalarType ComplexDouble is an unexpected tensor scalar type\n",
      "66 RuntimeError: ScalarType ComplexDouble is an unexpected tensor scalar type\n",
      "67 RuntimeError: ScalarType ComplexFloat is an unexpected tensor scalar type\n",
      "68 RuntimeError: ScalarType ComplexFloat is an unexpected tensor scalar type\n",
      "69 RuntimeError: ScalarType ComplexFloat is an unexpected tensor scalar type\n",
      "70 RuntimeError: ScalarType ComplexDouble is an unexpected tensor scalar type\n",
      "71 RuntimeError: ScalarType ComplexFloat is an unexpected tensor scalar type\n",
      "72 RuntimeError: ScalarType ComplexDouble is an unexpected tensor scalar type\n",
      "73 RuntimeError: ScalarType ComplexDouble is an unexpected tensor scalar type\n",
      "74 RuntimeError: ScalarType ComplexFloat is an unexpected tensor scalar type\n",
      "75 RuntimeError: ScalarType ComplexFloat is an unexpected tensor scalar type\n",
      "76 RuntimeError: ScalarType ComplexDouble is an unexpected tensor scalar type\n",
      "77 RuntimeError: ScalarType ComplexFloat is an unexpected tensor scalar type\n",
      "78 RuntimeError: ScalarType ComplexDouble is an unexpected tensor scalar type\n",
      "79 RuntimeError: ScalarType ComplexDouble is an unexpected tensor scalar type\n",
      "80 RuntimeError: ScalarType ComplexDouble is an unexpected tensor scalar type\n",
      "81 RuntimeError: ScalarType ComplexDouble is an unexpected tensor scalar type\n",
      "82 RuntimeError: ScalarType ComplexFloat is an unexpected tensor scalar type\n",
      "83 RuntimeError: ScalarType ComplexDouble is an unexpected tensor scalar type\n",
      "84 RuntimeError: ScalarType ComplexFloat is an unexpected tensor scalar type\n",
      "85 RuntimeError: ScalarType ComplexDouble is an unexpected tensor scalar type\n",
      "86 RuntimeError: ScalarType ComplexDouble is an unexpected tensor scalar type\n",
      "87 RuntimeError: ScalarType ComplexDouble is an unexpected tensor scalar type\n",
      "88 RuntimeError: ScalarType ComplexFloat is an unexpected tensor scalar type\n",
      "89 RuntimeError: ScalarType ComplexFloat is an unexpected tensor scalar type\n",
      "90 RuntimeError: ScalarType ComplexFloat is an unexpected tensor scalar type\n",
      "91 RuntimeError: ScalarType ComplexDouble is an unexpected tensor scalar type\n",
      "92 RuntimeError: ScalarType ComplexFloat is an unexpected tensor scalar type\n",
      "93 RuntimeError: ScalarType ComplexFloat is an unexpected tensor scalar type\n",
      "94 RuntimeError: ScalarType ComplexFloat is an unexpected tensor scalar type\n",
      "95 RuntimeError: ScalarType ComplexFloat is an unexpected tensor scalar type\n",
      "96 RuntimeError: ScalarType ComplexFloat is an unexpected tensor scalar type\n",
      "97 RuntimeError: ScalarType ComplexFloat is an unexpected tensor scalar type\n",
      "98 RuntimeError: ScalarType ComplexFloat is an unexpected tensor scalar type\n",
      "99 RuntimeError: ScalarType ComplexFloat is an unexpected tensor scalar type\n",
      "100 RuntimeError: ScalarType ComplexDouble is an unexpected tensor scalar type\n",
      "101 RuntimeError: ScalarType ComplexFloat is an unexpected tensor scalar type\n",
      "102 RuntimeError: ScalarType ComplexFloat is an unexpected tensor scalar type\n",
      "103 RuntimeError: ScalarType ComplexDouble is an unexpected tensor scalar type\n",
      "104 RuntimeError: ScalarType ComplexFloat is an unexpected tensor scalar type\n",
      "105 RuntimeError: ScalarType ComplexDouble is an unexpected tensor scalar type\n",
      "106 RuntimeError: ScalarType ComplexDouble is an unexpected tensor scalar type\n",
      "107 RuntimeError: ScalarType ComplexDouble is an unexpected tensor scalar type\n",
      "108 RuntimeError: ScalarType ComplexDouble is an unexpected tensor scalar type\n",
      "109 RuntimeError: ScalarType ComplexDouble is an unexpected tensor scalar type\n",
      "110 RuntimeError: ScalarType ComplexFloat is an unexpected tensor scalar type\n",
      "111 RuntimeError: ScalarType ComplexDouble is an unexpected tensor scalar type\n",
      "112 RuntimeError: ScalarType ComplexFloat is an unexpected tensor scalar type\n",
      "113 RuntimeError: ScalarType ComplexFloat is an unexpected tensor scalar type\n",
      "114 RuntimeError: ScalarType ComplexDouble is an unexpected tensor scalar type\n",
      "115 RuntimeError: ScalarType ComplexFloat is an unexpected tensor scalar type\n",
      "116 RuntimeError: ScalarType ComplexFloat is an unexpected tensor scalar type\n",
      "117 RuntimeError: ScalarType ComplexFloat is an unexpected tensor scalar type\n",
      "118 RuntimeError: ScalarType ComplexFloat is an unexpected tensor scalar type\n",
      "119 RuntimeError: ScalarType ComplexDouble is an unexpected tensor scalar type\n",
      "120 RuntimeError: ScalarType ComplexFloat is an unexpected tensor scalar type\n",
      "121 RuntimeError: ScalarType ComplexFloat is an unexpected tensor scalar type\n",
      "122 RuntimeError: ScalarType ComplexFloat is an unexpected tensor scalar type\n",
      "123 RuntimeError: ScalarType ComplexDouble is an unexpected tensor scalar type\n",
      "124 RuntimeError: ScalarType ComplexFloat is an unexpected tensor scalar type\n",
      "125 RuntimeError: ScalarType ComplexFloat is an unexpected tensor scalar type\n",
      "126 RuntimeError: ScalarType ComplexFloat is an unexpected tensor scalar type\n",
      "127 RuntimeError: ScalarType ComplexDouble is an unexpected tensor scalar type\n",
      "128 RuntimeError: ScalarType ComplexFloat is an unexpected tensor scalar type\n",
      "129 RuntimeError: ScalarType ComplexFloat is an unexpected tensor scalar type\n",
      "130 RuntimeError: ScalarType ComplexFloat is an unexpected tensor scalar type\n",
      "131 RuntimeError: ScalarType ComplexDouble is an unexpected tensor scalar type\n",
      "132 RuntimeError: ScalarType ComplexDouble is an unexpected tensor scalar type\n",
      "133 RuntimeError: ScalarType ComplexFloat is an unexpected tensor scalar type\n",
      "134 RuntimeError: ScalarType ComplexDouble is an unexpected tensor scalar type\n",
      "135 RuntimeError: ScalarType ComplexDouble is an unexpected tensor scalar type\n",
      "136 RuntimeError: ScalarType ComplexDouble is an unexpected tensor scalar type\n",
      "137 RuntimeError: ScalarType ComplexFloat is an unexpected tensor scalar type\n",
      "138 RuntimeError: ScalarType ComplexDouble is an unexpected tensor scalar type\n",
      "139 RuntimeError: ScalarType ComplexFloat is an unexpected tensor scalar type\n",
      "140 RuntimeError: ScalarType ComplexFloat is an unexpected tensor scalar type\n",
      "141 RuntimeError: ScalarType ComplexDouble is an unexpected tensor scalar type\n",
      "142 RuntimeError: ScalarType ComplexFloat is an unexpected tensor scalar type\n",
      "143 RuntimeError: ScalarType ComplexDouble is an unexpected tensor scalar type\n",
      "144 RuntimeError: ScalarType ComplexFloat is an unexpected tensor scalar type\n",
      "145 RuntimeError: ScalarType ComplexFloat is an unexpected tensor scalar type\n",
      "146 RuntimeError: ScalarType ComplexDouble is an unexpected tensor scalar type\n",
      "147 RuntimeError: ScalarType ComplexDouble is an unexpected tensor scalar type\n",
      "148 RuntimeError: ScalarType ComplexDouble is an unexpected tensor scalar type\n",
      "149 RuntimeError: ScalarType ComplexFloat is an unexpected tensor scalar type\n",
      "150 RuntimeError: ScalarType ComplexDouble is an unexpected tensor scalar type\n",
      "151 RuntimeError: ScalarType ComplexDouble is an unexpected tensor scalar type\n",
      "152 RuntimeError: ScalarType ComplexDouble is an unexpected tensor scalar type\n",
      "153 RuntimeError: ScalarType ComplexDouble is an unexpected tensor scalar type\n",
      "154 RuntimeError: ScalarType ComplexFloat is an unexpected tensor scalar type\n",
      "155 RuntimeError: ScalarType ComplexFloat is an unexpected tensor scalar type\n",
      "156 RuntimeError: ScalarType ComplexFloat is an unexpected tensor scalar type\n",
      "157 RuntimeError: ScalarType ComplexDouble is an unexpected tensor scalar type\n",
      "158 RuntimeError: ScalarType ComplexDouble is an unexpected tensor scalar type\n",
      "159 RuntimeError: ScalarType ComplexFloat is an unexpected tensor scalar type\n",
      "160 RuntimeError: ScalarType ComplexFloat is an unexpected tensor scalar type\n",
      "161 RuntimeError: ScalarType ComplexFloat is an unexpected tensor scalar type\n",
      "162 RuntimeError: ScalarType ComplexDouble is an unexpected tensor scalar type\n",
      "163 RuntimeError: ScalarType ComplexDouble is an unexpected tensor scalar type\n",
      "164 RuntimeError: ScalarType ComplexFloat is an unexpected tensor scalar type\n",
      "165 RuntimeError: ScalarType ComplexFloat is an unexpected tensor scalar type\n",
      "166 RuntimeError: ScalarType ComplexFloat is an unexpected tensor scalar type\n",
      "167 RuntimeError: ScalarType ComplexFloat is an unexpected tensor scalar type\n",
      "168 RuntimeError: ScalarType ComplexFloat is an unexpected tensor scalar type\n",
      "169 RuntimeError: ScalarType ComplexFloat is an unexpected tensor scalar type\n",
      "170 RuntimeError: ScalarType ComplexDouble is an unexpected tensor scalar type\n",
      "171 RuntimeError: ScalarType ComplexDouble is an unexpected tensor scalar type\n",
      "172 RuntimeError: ScalarType ComplexDouble is an unexpected tensor scalar type\n",
      "173 RuntimeError: ScalarType ComplexFloat is an unexpected tensor scalar type\n",
      "174 RuntimeError: ScalarType ComplexFloat is an unexpected tensor scalar type\n",
      "175 RuntimeError: ScalarType ComplexFloat is an unexpected tensor scalar type\n",
      "176 RuntimeError: ScalarType ComplexDouble is an unexpected tensor scalar type\n",
      "177 RuntimeError: ScalarType ComplexDouble is an unexpected tensor scalar type\n",
      "178 RuntimeError: ScalarType ComplexFloat is an unexpected tensor scalar type\n",
      "179 RuntimeError: ScalarType ComplexFloat is an unexpected tensor scalar type\n",
      "180 RuntimeError: ScalarType ComplexFloat is an unexpected tensor scalar type\n",
      "181 RuntimeError: ScalarType ComplexDouble is an unexpected tensor scalar type\n",
      "182 RuntimeError: ScalarType ComplexFloat is an unexpected tensor scalar type\n",
      "183 RuntimeError: ScalarType ComplexDouble is an unexpected tensor scalar type\n",
      "184 RuntimeError: ScalarType ComplexFloat is an unexpected tensor scalar type\n",
      "185 RuntimeError: ScalarType ComplexDouble is an unexpected tensor scalar type\n",
      "186 RuntimeError: ScalarType ComplexFloat is an unexpected tensor scalar type\n",
      "187 RuntimeError: ScalarType ComplexDouble is an unexpected tensor scalar type\n",
      "188 RuntimeError: ScalarType ComplexFloat is an unexpected tensor scalar type\n",
      "189 RuntimeError: ScalarType ComplexFloat is an unexpected tensor scalar type\n"
     ]
    }
   ],
   "source": [
    "for i, row in enumerate(pt_results.loc[pt_results['error'] == 1]['error_des']):\n",
    "    print(i, row.split(\"\\n\")[-2])\n",
    "# pt_results.loc[pt_results['error'] == 1]['error_des'][0].split(\"\\n\")[-2]"
   ]
  },
  {
   "attachments": {},
   "cell_type": "markdown",
   "metadata": {},
   "source": [
    "## Processing"
   ]
  },
  {
   "cell_type": "code",
   "execution_count": 26,
   "metadata": {},
   "outputs": [],
   "source": [
    "diff_tested_pt = pt_results.loc[(pt_results['error'] == 0) & (pt_results['mean_dist'].notna())]"
   ]
  },
  {
   "cell_type": "code",
   "execution_count": 27,
   "metadata": {},
   "outputs": [],
   "source": [
    "processed_table = pd.DataFrame(\n",
    "    columns=pd.MultiIndex.from_product(\n",
    "        [\n",
    "            pt_results[[\"min_dist\", \"mean_dist\", \"max_dist\", 'std_dev', \"med_dist\"]].columns,\n",
    "            [\n",
    "                \"mad\",\n",
    "            ],\n",
    "        ]\n",
    "    ),\n",
    "    index=diff_tested_pt.index,\n",
    ")\n"
   ]
  },
  {
   "cell_type": "code",
   "execution_count": 28,
   "metadata": {},
   "outputs": [
    {
     "data": {
      "text/html": [
       "<div>\n",
       "<style scoped>\n",
       "    .dataframe tbody tr th:only-of-type {\n",
       "        vertical-align: middle;\n",
       "    }\n",
       "\n",
       "    .dataframe tbody tr th {\n",
       "        vertical-align: top;\n",
       "    }\n",
       "\n",
       "    .dataframe thead tr th {\n",
       "        text-align: left;\n",
       "    }\n",
       "</style>\n",
       "<table border=\"1\" class=\"dataframe\">\n",
       "  <thead>\n",
       "    <tr>\n",
       "      <th></th>\n",
       "      <th>min_dist</th>\n",
       "      <th>mean_dist</th>\n",
       "      <th>max_dist</th>\n",
       "      <th>std_dev</th>\n",
       "      <th>med_dist</th>\n",
       "    </tr>\n",
       "    <tr>\n",
       "      <th></th>\n",
       "      <th>mad</th>\n",
       "      <th>mad</th>\n",
       "      <th>mad</th>\n",
       "      <th>mad</th>\n",
       "      <th>mad</th>\n",
       "    </tr>\n",
       "  </thead>\n",
       "  <tbody>\n",
       "    <tr>\n",
       "      <th>15_2576916866_pt</th>\n",
       "      <td>NaN</td>\n",
       "      <td>NaN</td>\n",
       "      <td>NaN</td>\n",
       "      <td>NaN</td>\n",
       "      <td>NaN</td>\n",
       "    </tr>\n",
       "    <tr>\n",
       "      <th>15_1880911499_pt</th>\n",
       "      <td>NaN</td>\n",
       "      <td>NaN</td>\n",
       "      <td>NaN</td>\n",
       "      <td>NaN</td>\n",
       "      <td>NaN</td>\n",
       "    </tr>\n",
       "    <tr>\n",
       "      <th>15_2349686221_pt</th>\n",
       "      <td>NaN</td>\n",
       "      <td>NaN</td>\n",
       "      <td>NaN</td>\n",
       "      <td>NaN</td>\n",
       "      <td>NaN</td>\n",
       "    </tr>\n",
       "    <tr>\n",
       "      <th>15_912854280_pt</th>\n",
       "      <td>NaN</td>\n",
       "      <td>NaN</td>\n",
       "      <td>NaN</td>\n",
       "      <td>NaN</td>\n",
       "      <td>NaN</td>\n",
       "    </tr>\n",
       "    <tr>\n",
       "      <th>15_4106384593_pt</th>\n",
       "      <td>NaN</td>\n",
       "      <td>NaN</td>\n",
       "      <td>NaN</td>\n",
       "      <td>NaN</td>\n",
       "      <td>NaN</td>\n",
       "    </tr>\n",
       "    <tr>\n",
       "      <th>...</th>\n",
       "      <td>...</td>\n",
       "      <td>...</td>\n",
       "      <td>...</td>\n",
       "      <td>...</td>\n",
       "      <td>...</td>\n",
       "    </tr>\n",
       "    <tr>\n",
       "      <th>100_3940739593_pt</th>\n",
       "      <td>NaN</td>\n",
       "      <td>NaN</td>\n",
       "      <td>NaN</td>\n",
       "      <td>NaN</td>\n",
       "      <td>NaN</td>\n",
       "    </tr>\n",
       "    <tr>\n",
       "      <th>100_2834467258_pt</th>\n",
       "      <td>NaN</td>\n",
       "      <td>NaN</td>\n",
       "      <td>NaN</td>\n",
       "      <td>NaN</td>\n",
       "      <td>NaN</td>\n",
       "    </tr>\n",
       "    <tr>\n",
       "      <th>100_4262738135_pt</th>\n",
       "      <td>NaN</td>\n",
       "      <td>NaN</td>\n",
       "      <td>NaN</td>\n",
       "      <td>NaN</td>\n",
       "      <td>NaN</td>\n",
       "    </tr>\n",
       "    <tr>\n",
       "      <th>100_579105727_pt</th>\n",
       "      <td>NaN</td>\n",
       "      <td>NaN</td>\n",
       "      <td>NaN</td>\n",
       "      <td>NaN</td>\n",
       "      <td>NaN</td>\n",
       "    </tr>\n",
       "    <tr>\n",
       "      <th>100_427497114_pt</th>\n",
       "      <td>NaN</td>\n",
       "      <td>NaN</td>\n",
       "      <td>NaN</td>\n",
       "      <td>NaN</td>\n",
       "      <td>NaN</td>\n",
       "    </tr>\n",
       "  </tbody>\n",
       "</table>\n",
       "<p>389 rows × 5 columns</p>\n",
       "</div>"
      ],
      "text/plain": [
       "                  min_dist mean_dist max_dist std_dev med_dist\n",
       "                       mad       mad      mad     mad      mad\n",
       "15_2576916866_pt       NaN       NaN      NaN     NaN      NaN\n",
       "15_1880911499_pt       NaN       NaN      NaN     NaN      NaN\n",
       "15_2349686221_pt       NaN       NaN      NaN     NaN      NaN\n",
       "15_912854280_pt        NaN       NaN      NaN     NaN      NaN\n",
       "15_4106384593_pt       NaN       NaN      NaN     NaN      NaN\n",
       "...                    ...       ...      ...     ...      ...\n",
       "100_3940739593_pt      NaN       NaN      NaN     NaN      NaN\n",
       "100_2834467258_pt      NaN       NaN      NaN     NaN      NaN\n",
       "100_4262738135_pt      NaN       NaN      NaN     NaN      NaN\n",
       "100_579105727_pt       NaN       NaN      NaN     NaN      NaN\n",
       "100_427497114_pt       NaN       NaN      NaN     NaN      NaN\n",
       "\n",
       "[389 rows x 5 columns]"
      ]
     },
     "execution_count": 28,
     "metadata": {},
     "output_type": "execute_result"
    }
   ],
   "source": [
    "processed_table"
   ]
  },
  {
   "cell_type": "code",
   "execution_count": 29,
   "metadata": {},
   "outputs": [],
   "source": [
    "for label, row in processed_table.iterrows():\n",
    "    for col, cell in row.iteritems():\n",
    "        processed_table.loc[label, col] = pt_results.loc[label, col[0]][col[1]]"
   ]
  },
  {
   "attachments": {},
   "cell_type": "markdown",
   "metadata": {},
   "source": [
    "## Incorrect Outputs"
   ]
  },
  {
   "cell_type": "code",
   "execution_count": 30,
   "metadata": {},
   "outputs": [
    {
     "data": {
      "text/html": [
       "<div>\n",
       "<style scoped>\n",
       "    .dataframe tbody tr th:only-of-type {\n",
       "        vertical-align: middle;\n",
       "    }\n",
       "\n",
       "    .dataframe tbody tr th {\n",
       "        vertical-align: top;\n",
       "    }\n",
       "\n",
       "    .dataframe thead th {\n",
       "        text-align: right;\n",
       "    }\n",
       "</style>\n",
       "<table border=\"1\" class=\"dataframe\">\n",
       "  <thead>\n",
       "    <tr style=\"text-align: right;\">\n",
       "      <th></th>\n",
       "      <th>mad</th>\n",
       "    </tr>\n",
       "  </thead>\n",
       "  <tbody>\n",
       "    <tr>\n",
       "      <th>15_3267215162_pt</th>\n",
       "      <td>1.0</td>\n",
       "    </tr>\n",
       "    <tr>\n",
       "      <th>15_3007478846_pt</th>\n",
       "      <td>0.965857</td>\n",
       "    </tr>\n",
       "    <tr>\n",
       "      <th>15_256668487_pt</th>\n",
       "      <td>6.549249</td>\n",
       "    </tr>\n",
       "    <tr>\n",
       "      <th>20_691728509_pt</th>\n",
       "      <td>0.003906</td>\n",
       "    </tr>\n",
       "    <tr>\n",
       "      <th>20_1340384958_pt</th>\n",
       "      <td>0.0625</td>\n",
       "    </tr>\n",
       "    <tr>\n",
       "      <th>...</th>\n",
       "      <td>...</td>\n",
       "    </tr>\n",
       "    <tr>\n",
       "      <th>95_2843366161_pt</th>\n",
       "      <td>51.371769</td>\n",
       "    </tr>\n",
       "    <tr>\n",
       "      <th>95_3510495230_pt</th>\n",
       "      <td>2.241486</td>\n",
       "    </tr>\n",
       "    <tr>\n",
       "      <th>95_2523235145_pt</th>\n",
       "      <td>1201.538208</td>\n",
       "    </tr>\n",
       "    <tr>\n",
       "      <th>95_1393926397_pt</th>\n",
       "      <td>9.868408</td>\n",
       "    </tr>\n",
       "    <tr>\n",
       "      <th>100_427497114_pt</th>\n",
       "      <td>48.0</td>\n",
       "    </tr>\n",
       "  </tbody>\n",
       "</table>\n",
       "<p>94 rows × 1 columns</p>\n",
       "</div>"
      ],
      "text/plain": [
       "                          mad\n",
       "15_3267215162_pt          1.0\n",
       "15_3007478846_pt     0.965857\n",
       "15_256668487_pt      6.549249\n",
       "20_691728509_pt      0.003906\n",
       "20_1340384958_pt       0.0625\n",
       "...                       ...\n",
       "95_2843366161_pt    51.371769\n",
       "95_3510495230_pt     2.241486\n",
       "95_2523235145_pt  1201.538208\n",
       "95_1393926397_pt     9.868408\n",
       "100_427497114_pt         48.0\n",
       "\n",
       "[94 rows x 1 columns]"
      ]
     },
     "execution_count": 30,
     "metadata": {},
     "output_type": "execute_result"
    }
   ],
   "source": [
    "mad_median_pt_dist = processed_table['med_dist'][['mad']]\n",
    "# mad_median_pt_dist = mad_median_pt_dist.join(pt_results[['num_nodes']])\n",
    "mad_median_pt_dist.loc[mad_median_pt_dist ['mad'] > 1e-3]"
   ]
  },
  {
   "attachments": {},
   "cell_type": "markdown",
   "metadata": {},
   "source": [
    "## Success"
   ]
  },
  {
   "cell_type": "code",
   "execution_count": 31,
   "metadata": {},
   "outputs": [
    {
     "data": {
      "text/plain": [
       "293"
      ]
     },
     "execution_count": 31,
     "metadata": {},
     "output_type": "execute_result"
    }
   ],
   "source": [
    "mad_median_pt_dist.loc[mad_median_pt_dist['mad'] <= 1e-3].shape[0]"
   ]
  },
  {
   "attachments": {},
   "cell_type": "markdown",
   "metadata": {},
   "source": [
    "# PT Constrained Processing"
   ]
  },
  {
   "cell_type": "code",
   "execution_count": 33,
   "metadata": {},
   "outputs": [],
   "source": [
    "pt_results = pd.read_json('./random_pt_con.json')"
   ]
  },
  {
   "cell_type": "markdown",
   "metadata": {},
   "source": [
    "## Conv Errors"
   ]
  },
  {
   "cell_type": "code",
   "execution_count": 34,
   "metadata": {},
   "outputs": [
    {
     "data": {
      "text/plain": [
       "0"
      ]
     },
     "execution_count": 34,
     "metadata": {},
     "output_type": "execute_result"
    }
   ],
   "source": [
    "pt_results.loc[pt_results['error'] == 1].shape[0]"
   ]
  },
  {
   "cell_type": "code",
   "execution_count": 35,
   "metadata": {},
   "outputs": [],
   "source": [
    "for i, row in enumerate(pt_results.loc[pt_results['error'] == 1]['error_des']):\n",
    "    print(i, row.split(\"\\n\")[-2])\n",
    "# pt_results.loc[pt_results['error'] == 1]['error_des'][0].split(\"\\n\")[-2]"
   ]
  },
  {
   "cell_type": "markdown",
   "metadata": {},
   "source": [
    "## Processing"
   ]
  },
  {
   "cell_type": "code",
   "execution_count": 36,
   "metadata": {},
   "outputs": [],
   "source": [
    "diff_tested_pt = pt_results.loc[(pt_results['error'] == 0) & (pt_results['mean_dist'].notna())]"
   ]
  },
  {
   "cell_type": "code",
   "execution_count": 37,
   "metadata": {},
   "outputs": [],
   "source": [
    "processed_table = pd.DataFrame(\n",
    "    columns=pd.MultiIndex.from_product(\n",
    "        [\n",
    "            pt_results[[\"min_dist\", \"mean_dist\", \"max_dist\", 'std_dev', \"med_dist\"]].columns,\n",
    "            [\n",
    "                \"mad\",\n",
    "            ],\n",
    "        ]\n",
    "    ),\n",
    "    index=diff_tested_pt.index,\n",
    ")\n"
   ]
  },
  {
   "cell_type": "code",
   "execution_count": 38,
   "metadata": {},
   "outputs": [
    {
     "data": {
      "text/html": [
       "<div>\n",
       "<style scoped>\n",
       "    .dataframe tbody tr th:only-of-type {\n",
       "        vertical-align: middle;\n",
       "    }\n",
       "\n",
       "    .dataframe tbody tr th {\n",
       "        vertical-align: top;\n",
       "    }\n",
       "\n",
       "    .dataframe thead tr th {\n",
       "        text-align: left;\n",
       "    }\n",
       "</style>\n",
       "<table border=\"1\" class=\"dataframe\">\n",
       "  <thead>\n",
       "    <tr>\n",
       "      <th></th>\n",
       "      <th>min_dist</th>\n",
       "      <th>mean_dist</th>\n",
       "      <th>max_dist</th>\n",
       "      <th>std_dev</th>\n",
       "      <th>med_dist</th>\n",
       "    </tr>\n",
       "    <tr>\n",
       "      <th></th>\n",
       "      <th>mad</th>\n",
       "      <th>mad</th>\n",
       "      <th>mad</th>\n",
       "      <th>mad</th>\n",
       "      <th>mad</th>\n",
       "    </tr>\n",
       "  </thead>\n",
       "  <tbody>\n",
       "    <tr>\n",
       "      <th>15_3490005371_pt</th>\n",
       "      <td>NaN</td>\n",
       "      <td>NaN</td>\n",
       "      <td>NaN</td>\n",
       "      <td>NaN</td>\n",
       "      <td>NaN</td>\n",
       "    </tr>\n",
       "    <tr>\n",
       "      <th>15_1830730569_pt</th>\n",
       "      <td>NaN</td>\n",
       "      <td>NaN</td>\n",
       "      <td>NaN</td>\n",
       "      <td>NaN</td>\n",
       "      <td>NaN</td>\n",
       "    </tr>\n",
       "    <tr>\n",
       "      <th>15_594356564_pt</th>\n",
       "      <td>NaN</td>\n",
       "      <td>NaN</td>\n",
       "      <td>NaN</td>\n",
       "      <td>NaN</td>\n",
       "      <td>NaN</td>\n",
       "    </tr>\n",
       "    <tr>\n",
       "      <th>15_3868237654_pt</th>\n",
       "      <td>NaN</td>\n",
       "      <td>NaN</td>\n",
       "      <td>NaN</td>\n",
       "      <td>NaN</td>\n",
       "      <td>NaN</td>\n",
       "    </tr>\n",
       "    <tr>\n",
       "      <th>15_3294824347_pt</th>\n",
       "      <td>NaN</td>\n",
       "      <td>NaN</td>\n",
       "      <td>NaN</td>\n",
       "      <td>NaN</td>\n",
       "      <td>NaN</td>\n",
       "    </tr>\n",
       "    <tr>\n",
       "      <th>...</th>\n",
       "      <td>...</td>\n",
       "      <td>...</td>\n",
       "      <td>...</td>\n",
       "      <td>...</td>\n",
       "      <td>...</td>\n",
       "    </tr>\n",
       "    <tr>\n",
       "      <th>100_2038814902_pt</th>\n",
       "      <td>NaN</td>\n",
       "      <td>NaN</td>\n",
       "      <td>NaN</td>\n",
       "      <td>NaN</td>\n",
       "      <td>NaN</td>\n",
       "    </tr>\n",
       "    <tr>\n",
       "      <th>100_723451920_pt</th>\n",
       "      <td>NaN</td>\n",
       "      <td>NaN</td>\n",
       "      <td>NaN</td>\n",
       "      <td>NaN</td>\n",
       "      <td>NaN</td>\n",
       "    </tr>\n",
       "    <tr>\n",
       "      <th>100_2738858578_pt</th>\n",
       "      <td>NaN</td>\n",
       "      <td>NaN</td>\n",
       "      <td>NaN</td>\n",
       "      <td>NaN</td>\n",
       "      <td>NaN</td>\n",
       "    </tr>\n",
       "    <tr>\n",
       "      <th>100_2322025169_pt</th>\n",
       "      <td>NaN</td>\n",
       "      <td>NaN</td>\n",
       "      <td>NaN</td>\n",
       "      <td>NaN</td>\n",
       "      <td>NaN</td>\n",
       "    </tr>\n",
       "    <tr>\n",
       "      <th>100_2888252205_pt</th>\n",
       "      <td>NaN</td>\n",
       "      <td>NaN</td>\n",
       "      <td>NaN</td>\n",
       "      <td>NaN</td>\n",
       "      <td>NaN</td>\n",
       "    </tr>\n",
       "  </tbody>\n",
       "</table>\n",
       "<p>1790 rows × 5 columns</p>\n",
       "</div>"
      ],
      "text/plain": [
       "                  min_dist mean_dist max_dist std_dev med_dist\n",
       "                       mad       mad      mad     mad      mad\n",
       "15_3490005371_pt       NaN       NaN      NaN     NaN      NaN\n",
       "15_1830730569_pt       NaN       NaN      NaN     NaN      NaN\n",
       "15_594356564_pt        NaN       NaN      NaN     NaN      NaN\n",
       "15_3868237654_pt       NaN       NaN      NaN     NaN      NaN\n",
       "15_3294824347_pt       NaN       NaN      NaN     NaN      NaN\n",
       "...                    ...       ...      ...     ...      ...\n",
       "100_2038814902_pt      NaN       NaN      NaN     NaN      NaN\n",
       "100_723451920_pt       NaN       NaN      NaN     NaN      NaN\n",
       "100_2738858578_pt      NaN       NaN      NaN     NaN      NaN\n",
       "100_2322025169_pt      NaN       NaN      NaN     NaN      NaN\n",
       "100_2888252205_pt      NaN       NaN      NaN     NaN      NaN\n",
       "\n",
       "[1790 rows x 5 columns]"
      ]
     },
     "execution_count": 38,
     "metadata": {},
     "output_type": "execute_result"
    }
   ],
   "source": [
    "processed_table"
   ]
  },
  {
   "cell_type": "code",
   "execution_count": 39,
   "metadata": {},
   "outputs": [],
   "source": [
    "for label, row in processed_table.iterrows():\n",
    "    for col, cell in row.iteritems():\n",
    "        processed_table.loc[label, col] = pt_results.loc[label, col[0]][col[1]]"
   ]
  },
  {
   "cell_type": "markdown",
   "metadata": {},
   "source": [
    "## Incorrect Outputs"
   ]
  },
  {
   "cell_type": "code",
   "execution_count": 40,
   "metadata": {},
   "outputs": [
    {
     "data": {
      "text/html": [
       "<div>\n",
       "<style scoped>\n",
       "    .dataframe tbody tr th:only-of-type {\n",
       "        vertical-align: middle;\n",
       "    }\n",
       "\n",
       "    .dataframe tbody tr th {\n",
       "        vertical-align: top;\n",
       "    }\n",
       "\n",
       "    .dataframe thead th {\n",
       "        text-align: right;\n",
       "    }\n",
       "</style>\n",
       "<table border=\"1\" class=\"dataframe\">\n",
       "  <thead>\n",
       "    <tr style=\"text-align: right;\">\n",
       "      <th></th>\n",
       "      <th>mad</th>\n",
       "    </tr>\n",
       "  </thead>\n",
       "  <tbody>\n",
       "    <tr>\n",
       "      <th>15_1830730569_pt</th>\n",
       "      <td>77.951782</td>\n",
       "    </tr>\n",
       "    <tr>\n",
       "      <th>15_2701350503_pt</th>\n",
       "      <td>5.415833</td>\n",
       "    </tr>\n",
       "    <tr>\n",
       "      <th>15_3707774021_pt</th>\n",
       "      <td>31.257603</td>\n",
       "    </tr>\n",
       "    <tr>\n",
       "      <th>15_2664701379_pt</th>\n",
       "      <td>9.655439</td>\n",
       "    </tr>\n",
       "    <tr>\n",
       "      <th>15_2859127604_pt</th>\n",
       "      <td>0.265026</td>\n",
       "    </tr>\n",
       "    <tr>\n",
       "      <th>...</th>\n",
       "      <td>...</td>\n",
       "    </tr>\n",
       "    <tr>\n",
       "      <th>100_4247939447_pt</th>\n",
       "      <td>15001.112305</td>\n",
       "    </tr>\n",
       "    <tr>\n",
       "      <th>100_2038814902_pt</th>\n",
       "      <td>6.753756</td>\n",
       "    </tr>\n",
       "    <tr>\n",
       "      <th>100_723451920_pt</th>\n",
       "      <td>10.331679</td>\n",
       "    </tr>\n",
       "    <tr>\n",
       "      <th>100_2322025169_pt</th>\n",
       "      <td>5.96505</td>\n",
       "    </tr>\n",
       "    <tr>\n",
       "      <th>100_2888252205_pt</th>\n",
       "      <td>11.869654</td>\n",
       "    </tr>\n",
       "  </tbody>\n",
       "</table>\n",
       "<p>660 rows × 1 columns</p>\n",
       "</div>"
      ],
      "text/plain": [
       "                            mad\n",
       "15_1830730569_pt      77.951782\n",
       "15_2701350503_pt       5.415833\n",
       "15_3707774021_pt      31.257603\n",
       "15_2664701379_pt       9.655439\n",
       "15_2859127604_pt       0.265026\n",
       "...                         ...\n",
       "100_4247939447_pt  15001.112305\n",
       "100_2038814902_pt      6.753756\n",
       "100_723451920_pt      10.331679\n",
       "100_2322025169_pt       5.96505\n",
       "100_2888252205_pt     11.869654\n",
       "\n",
       "[660 rows x 1 columns]"
      ]
     },
     "execution_count": 40,
     "metadata": {},
     "output_type": "execute_result"
    }
   ],
   "source": [
    "mad_median_pt_dist = processed_table['med_dist'][['mad']]\n",
    "# mad_median_pt_dist = mad_median_pt_dist.join(pt_results[['num_nodes']])\n",
    "mad_median_pt_dist.loc[mad_median_pt_dist ['mad'] > 1e-3]"
   ]
  },
  {
   "cell_type": "markdown",
   "metadata": {},
   "source": [
    "## Success"
   ]
  },
  {
   "cell_type": "code",
   "execution_count": 41,
   "metadata": {},
   "outputs": [
    {
     "data": {
      "text/plain": [
       "1121"
      ]
     },
     "execution_count": 41,
     "metadata": {},
     "output_type": "execute_result"
    }
   ],
   "source": [
    "mad_median_pt_dist.loc[mad_median_pt_dist['mad'] <= 1e-3].shape[0]"
   ]
  },
  {
   "attachments": {},
   "cell_type": "markdown",
   "metadata": {},
   "source": [
    "# TF Processing"
   ]
  },
  {
   "cell_type": "code",
   "execution_count": 56,
   "metadata": {},
   "outputs": [],
   "source": [
    "tf_results = pd.read_json('./random_tf.json')"
   ]
  },
  {
   "cell_type": "markdown",
   "metadata": {},
   "source": [
    "## Conv Errors"
   ]
  },
  {
   "cell_type": "code",
   "execution_count": 57,
   "metadata": {},
   "outputs": [
    {
     "data": {
      "text/plain": [
       "0"
      ]
     },
     "execution_count": 57,
     "metadata": {},
     "output_type": "execute_result"
    }
   ],
   "source": [
    "tf_results.loc[tf_results['error'] == 1].shape[0]"
   ]
  },
  {
   "cell_type": "code",
   "execution_count": 58,
   "metadata": {},
   "outputs": [],
   "source": [
    "for i, row in enumerate(tf_results.loc[tf_results['error'] == 1]['error_des']):\n",
    "    print(i, row.split(\"\\n\")[-2])\n",
    "# pt_results.loc[pt_results['error'] == 1]['error_des'][0].split(\"\\n\")[-2]"
   ]
  },
  {
   "cell_type": "markdown",
   "metadata": {},
   "source": [
    "## Processing"
   ]
  },
  {
   "cell_type": "code",
   "execution_count": 59,
   "metadata": {},
   "outputs": [],
   "source": [
    "diff_tested_tf = tf_results.loc[(tf_results['error'] == 0) & (tf_results['mean_dist'].notna())]"
   ]
  },
  {
   "cell_type": "code",
   "execution_count": 60,
   "metadata": {},
   "outputs": [],
   "source": [
    "processed_table = pd.DataFrame(\n",
    "    columns=pd.MultiIndex.from_product(\n",
    "        [\n",
    "            tf_results[[\"min_dist\", \"mean_dist\", \"max_dist\", 'std_dev', \"med_dist\"]].columns,\n",
    "            [\n",
    "                \"mad\",\n",
    "            ],\n",
    "        ]\n",
    "    ),\n",
    "    index=diff_tested_tf.index,\n",
    ")\n"
   ]
  },
  {
   "cell_type": "code",
   "execution_count": 61,
   "metadata": {},
   "outputs": [
    {
     "data": {
      "text/html": [
       "<div>\n",
       "<style scoped>\n",
       "    .dataframe tbody tr th:only-of-type {\n",
       "        vertical-align: middle;\n",
       "    }\n",
       "\n",
       "    .dataframe tbody tr th {\n",
       "        vertical-align: top;\n",
       "    }\n",
       "\n",
       "    .dataframe thead tr th {\n",
       "        text-align: left;\n",
       "    }\n",
       "</style>\n",
       "<table border=\"1\" class=\"dataframe\">\n",
       "  <thead>\n",
       "    <tr>\n",
       "      <th></th>\n",
       "      <th>min_dist</th>\n",
       "      <th>mean_dist</th>\n",
       "      <th>max_dist</th>\n",
       "      <th>std_dev</th>\n",
       "      <th>med_dist</th>\n",
       "    </tr>\n",
       "    <tr>\n",
       "      <th></th>\n",
       "      <th>mad</th>\n",
       "      <th>mad</th>\n",
       "      <th>mad</th>\n",
       "      <th>mad</th>\n",
       "      <th>mad</th>\n",
       "    </tr>\n",
       "  </thead>\n",
       "  <tbody>\n",
       "    <tr>\n",
       "      <th>15_2272429665_tf</th>\n",
       "      <td>NaN</td>\n",
       "      <td>NaN</td>\n",
       "      <td>NaN</td>\n",
       "      <td>NaN</td>\n",
       "      <td>NaN</td>\n",
       "    </tr>\n",
       "    <tr>\n",
       "      <th>15_2215967651_tf</th>\n",
       "      <td>NaN</td>\n",
       "      <td>NaN</td>\n",
       "      <td>NaN</td>\n",
       "      <td>NaN</td>\n",
       "      <td>NaN</td>\n",
       "    </tr>\n",
       "    <tr>\n",
       "      <th>15_2754729144_tf</th>\n",
       "      <td>NaN</td>\n",
       "      <td>NaN</td>\n",
       "      <td>NaN</td>\n",
       "      <td>NaN</td>\n",
       "      <td>NaN</td>\n",
       "    </tr>\n",
       "    <tr>\n",
       "      <th>15_2523547174_tf</th>\n",
       "      <td>NaN</td>\n",
       "      <td>NaN</td>\n",
       "      <td>NaN</td>\n",
       "      <td>NaN</td>\n",
       "      <td>NaN</td>\n",
       "    </tr>\n",
       "    <tr>\n",
       "      <th>15_360067643_tf</th>\n",
       "      <td>NaN</td>\n",
       "      <td>NaN</td>\n",
       "      <td>NaN</td>\n",
       "      <td>NaN</td>\n",
       "      <td>NaN</td>\n",
       "    </tr>\n",
       "    <tr>\n",
       "      <th>...</th>\n",
       "      <td>...</td>\n",
       "      <td>...</td>\n",
       "      <td>...</td>\n",
       "      <td>...</td>\n",
       "      <td>...</td>\n",
       "    </tr>\n",
       "    <tr>\n",
       "      <th>95_131659932_tf</th>\n",
       "      <td>NaN</td>\n",
       "      <td>NaN</td>\n",
       "      <td>NaN</td>\n",
       "      <td>NaN</td>\n",
       "      <td>NaN</td>\n",
       "    </tr>\n",
       "    <tr>\n",
       "      <th>95_4276798741_tf</th>\n",
       "      <td>NaN</td>\n",
       "      <td>NaN</td>\n",
       "      <td>NaN</td>\n",
       "      <td>NaN</td>\n",
       "      <td>NaN</td>\n",
       "    </tr>\n",
       "    <tr>\n",
       "      <th>95_1660442738_tf</th>\n",
       "      <td>NaN</td>\n",
       "      <td>NaN</td>\n",
       "      <td>NaN</td>\n",
       "      <td>NaN</td>\n",
       "      <td>NaN</td>\n",
       "    </tr>\n",
       "    <tr>\n",
       "      <th>100_1099868669_tf</th>\n",
       "      <td>NaN</td>\n",
       "      <td>NaN</td>\n",
       "      <td>NaN</td>\n",
       "      <td>NaN</td>\n",
       "      <td>NaN</td>\n",
       "    </tr>\n",
       "    <tr>\n",
       "      <th>100_1021053206_tf</th>\n",
       "      <td>NaN</td>\n",
       "      <td>NaN</td>\n",
       "      <td>NaN</td>\n",
       "      <td>NaN</td>\n",
       "      <td>NaN</td>\n",
       "    </tr>\n",
       "  </tbody>\n",
       "</table>\n",
       "<p>226 rows × 5 columns</p>\n",
       "</div>"
      ],
      "text/plain": [
       "                  min_dist mean_dist max_dist std_dev med_dist\n",
       "                       mad       mad      mad     mad      mad\n",
       "15_2272429665_tf       NaN       NaN      NaN     NaN      NaN\n",
       "15_2215967651_tf       NaN       NaN      NaN     NaN      NaN\n",
       "15_2754729144_tf       NaN       NaN      NaN     NaN      NaN\n",
       "15_2523547174_tf       NaN       NaN      NaN     NaN      NaN\n",
       "15_360067643_tf        NaN       NaN      NaN     NaN      NaN\n",
       "...                    ...       ...      ...     ...      ...\n",
       "95_131659932_tf        NaN       NaN      NaN     NaN      NaN\n",
       "95_4276798741_tf       NaN       NaN      NaN     NaN      NaN\n",
       "95_1660442738_tf       NaN       NaN      NaN     NaN      NaN\n",
       "100_1099868669_tf      NaN       NaN      NaN     NaN      NaN\n",
       "100_1021053206_tf      NaN       NaN      NaN     NaN      NaN\n",
       "\n",
       "[226 rows x 5 columns]"
      ]
     },
     "execution_count": 61,
     "metadata": {},
     "output_type": "execute_result"
    }
   ],
   "source": [
    "processed_table"
   ]
  },
  {
   "cell_type": "code",
   "execution_count": 62,
   "metadata": {},
   "outputs": [],
   "source": [
    "for label, row in processed_table.iterrows():\n",
    "    for col, cell in row.iteritems():\n",
    "        processed_table.loc[label, col] = tf_results.loc[label, col[0]][col[1]]"
   ]
  },
  {
   "cell_type": "markdown",
   "metadata": {},
   "source": [
    "## Incorrect Outputs"
   ]
  },
  {
   "cell_type": "code",
   "execution_count": 63,
   "metadata": {},
   "outputs": [
    {
     "data": {
      "text/plain": [
       "37"
      ]
     },
     "execution_count": 63,
     "metadata": {},
     "output_type": "execute_result"
    }
   ],
   "source": [
    "mad_median_tf_dist = processed_table['med_dist'][['mad']]\n",
    "# mad_median_pt_dist = mad_median_pt_dist.join(pt_results[['num_nodes']])\n",
    "mad_median_tf_dist.loc[mad_median_tf_dist ['mad'] > 1e-3].shape[0]"
   ]
  },
  {
   "cell_type": "markdown",
   "metadata": {},
   "source": [
    "## Success"
   ]
  },
  {
   "cell_type": "code",
   "execution_count": 64,
   "metadata": {},
   "outputs": [
    {
     "data": {
      "text/plain": [
       "184"
      ]
     },
     "execution_count": 64,
     "metadata": {},
     "output_type": "execute_result"
    }
   ],
   "source": [
    "mad_median_tf_dist.loc[mad_median_tf_dist['mad'] <= 1e-3].shape[0]"
   ]
  },
  {
   "attachments": {},
   "cell_type": "markdown",
   "metadata": {},
   "source": [
    "# TF Constrained Processing"
   ]
  },
  {
   "cell_type": "code",
   "execution_count": 43,
   "metadata": {},
   "outputs": [],
   "source": [
    "tf_results = pd.read_json('./random_tf_con.json')"
   ]
  },
  {
   "cell_type": "markdown",
   "metadata": {},
   "source": [
    "## Conv Errors"
   ]
  },
  {
   "cell_type": "code",
   "execution_count": 44,
   "metadata": {},
   "outputs": [
    {
     "data": {
      "text/plain": [
       "0"
      ]
     },
     "execution_count": 44,
     "metadata": {},
     "output_type": "execute_result"
    }
   ],
   "source": [
    "tf_results.loc[tf_results['error'] == 1].shape[0]"
   ]
  },
  {
   "cell_type": "code",
   "execution_count": 45,
   "metadata": {},
   "outputs": [],
   "source": [
    "for i, row in enumerate(tf_results.loc[tf_results['error'] == 1]['error_des']):\n",
    "    print(i, row.split(\"\\n\")[-2])\n",
    "# pt_results.loc[pt_results['error'] == 1]['error_des'][0].split(\"\\n\")[-2]"
   ]
  },
  {
   "cell_type": "markdown",
   "metadata": {},
   "source": [
    "## Processing"
   ]
  },
  {
   "cell_type": "code",
   "execution_count": 46,
   "metadata": {},
   "outputs": [],
   "source": [
    "diff_tested_tf = tf_results.loc[(tf_results['error'] == 0) & (tf_results['mean_dist'].notna())]"
   ]
  },
  {
   "cell_type": "code",
   "execution_count": 47,
   "metadata": {},
   "outputs": [],
   "source": [
    "processed_table = pd.DataFrame(\n",
    "    columns=pd.MultiIndex.from_product(\n",
    "        [\n",
    "            tf_results[[\"min_dist\", \"mean_dist\", \"max_dist\", 'std_dev', \"med_dist\"]].columns,\n",
    "            [\n",
    "                \"mad\",\n",
    "            ],\n",
    "        ]\n",
    "    ),\n",
    "    index=diff_tested_tf.index,\n",
    ")\n"
   ]
  },
  {
   "cell_type": "code",
   "execution_count": 48,
   "metadata": {},
   "outputs": [
    {
     "data": {
      "text/html": [
       "<div>\n",
       "<style scoped>\n",
       "    .dataframe tbody tr th:only-of-type {\n",
       "        vertical-align: middle;\n",
       "    }\n",
       "\n",
       "    .dataframe tbody tr th {\n",
       "        vertical-align: top;\n",
       "    }\n",
       "\n",
       "    .dataframe thead tr th {\n",
       "        text-align: left;\n",
       "    }\n",
       "</style>\n",
       "<table border=\"1\" class=\"dataframe\">\n",
       "  <thead>\n",
       "    <tr>\n",
       "      <th></th>\n",
       "      <th>min_dist</th>\n",
       "      <th>mean_dist</th>\n",
       "      <th>max_dist</th>\n",
       "      <th>std_dev</th>\n",
       "      <th>med_dist</th>\n",
       "    </tr>\n",
       "    <tr>\n",
       "      <th></th>\n",
       "      <th>mad</th>\n",
       "      <th>mad</th>\n",
       "      <th>mad</th>\n",
       "      <th>mad</th>\n",
       "      <th>mad</th>\n",
       "    </tr>\n",
       "  </thead>\n",
       "  <tbody>\n",
       "    <tr>\n",
       "      <th>15_3733555507_tf</th>\n",
       "      <td>NaN</td>\n",
       "      <td>NaN</td>\n",
       "      <td>NaN</td>\n",
       "      <td>NaN</td>\n",
       "      <td>NaN</td>\n",
       "    </tr>\n",
       "    <tr>\n",
       "      <th>15_701804835_tf</th>\n",
       "      <td>NaN</td>\n",
       "      <td>NaN</td>\n",
       "      <td>NaN</td>\n",
       "      <td>NaN</td>\n",
       "      <td>NaN</td>\n",
       "    </tr>\n",
       "    <tr>\n",
       "      <th>15_1153834586_tf</th>\n",
       "      <td>NaN</td>\n",
       "      <td>NaN</td>\n",
       "      <td>NaN</td>\n",
       "      <td>NaN</td>\n",
       "      <td>NaN</td>\n",
       "    </tr>\n",
       "    <tr>\n",
       "      <th>15_1003585824_tf</th>\n",
       "      <td>NaN</td>\n",
       "      <td>NaN</td>\n",
       "      <td>NaN</td>\n",
       "      <td>NaN</td>\n",
       "      <td>NaN</td>\n",
       "    </tr>\n",
       "    <tr>\n",
       "      <th>15_3897125719_tf</th>\n",
       "      <td>NaN</td>\n",
       "      <td>NaN</td>\n",
       "      <td>NaN</td>\n",
       "      <td>NaN</td>\n",
       "      <td>NaN</td>\n",
       "    </tr>\n",
       "    <tr>\n",
       "      <th>...</th>\n",
       "      <td>...</td>\n",
       "      <td>...</td>\n",
       "      <td>...</td>\n",
       "      <td>...</td>\n",
       "      <td>...</td>\n",
       "    </tr>\n",
       "    <tr>\n",
       "      <th>100_41060463_tf</th>\n",
       "      <td>NaN</td>\n",
       "      <td>NaN</td>\n",
       "      <td>NaN</td>\n",
       "      <td>NaN</td>\n",
       "      <td>NaN</td>\n",
       "    </tr>\n",
       "    <tr>\n",
       "      <th>100_177588628_tf</th>\n",
       "      <td>NaN</td>\n",
       "      <td>NaN</td>\n",
       "      <td>NaN</td>\n",
       "      <td>NaN</td>\n",
       "      <td>NaN</td>\n",
       "    </tr>\n",
       "    <tr>\n",
       "      <th>100_3351817712_tf</th>\n",
       "      <td>NaN</td>\n",
       "      <td>NaN</td>\n",
       "      <td>NaN</td>\n",
       "      <td>NaN</td>\n",
       "      <td>NaN</td>\n",
       "    </tr>\n",
       "    <tr>\n",
       "      <th>100_341206565_tf</th>\n",
       "      <td>NaN</td>\n",
       "      <td>NaN</td>\n",
       "      <td>NaN</td>\n",
       "      <td>NaN</td>\n",
       "      <td>NaN</td>\n",
       "    </tr>\n",
       "    <tr>\n",
       "      <th>100_2221625129_tf</th>\n",
       "      <td>NaN</td>\n",
       "      <td>NaN</td>\n",
       "      <td>NaN</td>\n",
       "      <td>NaN</td>\n",
       "      <td>NaN</td>\n",
       "    </tr>\n",
       "  </tbody>\n",
       "</table>\n",
       "<p>813 rows × 5 columns</p>\n",
       "</div>"
      ],
      "text/plain": [
       "                  min_dist mean_dist max_dist std_dev med_dist\n",
       "                       mad       mad      mad     mad      mad\n",
       "15_3733555507_tf       NaN       NaN      NaN     NaN      NaN\n",
       "15_701804835_tf        NaN       NaN      NaN     NaN      NaN\n",
       "15_1153834586_tf       NaN       NaN      NaN     NaN      NaN\n",
       "15_1003585824_tf       NaN       NaN      NaN     NaN      NaN\n",
       "15_3897125719_tf       NaN       NaN      NaN     NaN      NaN\n",
       "...                    ...       ...      ...     ...      ...\n",
       "100_41060463_tf        NaN       NaN      NaN     NaN      NaN\n",
       "100_177588628_tf       NaN       NaN      NaN     NaN      NaN\n",
       "100_3351817712_tf      NaN       NaN      NaN     NaN      NaN\n",
       "100_341206565_tf       NaN       NaN      NaN     NaN      NaN\n",
       "100_2221625129_tf      NaN       NaN      NaN     NaN      NaN\n",
       "\n",
       "[813 rows x 5 columns]"
      ]
     },
     "execution_count": 48,
     "metadata": {},
     "output_type": "execute_result"
    }
   ],
   "source": [
    "processed_table"
   ]
  },
  {
   "cell_type": "code",
   "execution_count": 53,
   "metadata": {},
   "outputs": [],
   "source": [
    "for label, row in processed_table.iterrows():\n",
    "    for col, cell in row.iteritems():\n",
    "        processed_table.loc[label, col] = tf_results.loc[label, col[0]][col[1]]"
   ]
  },
  {
   "cell_type": "markdown",
   "metadata": {},
   "source": [
    "## Incorrect Outputs"
   ]
  },
  {
   "cell_type": "code",
   "execution_count": 55,
   "metadata": {},
   "outputs": [
    {
     "data": {
      "text/plain": [
       "31"
      ]
     },
     "execution_count": 55,
     "metadata": {},
     "output_type": "execute_result"
    }
   ],
   "source": [
    "mad_median_tf_dist = processed_table['med_dist'][['mad']]\n",
    "# mad_median_pt_dist = mad_median_pt_dist.join(pt_results[['num_nodes']])\n",
    "mad_median_tf_dist.loc[mad_median_tf_dist ['mad'] > 1e-3].shape[0]"
   ]
  },
  {
   "cell_type": "markdown",
   "metadata": {},
   "source": [
    "## Success"
   ]
  },
  {
   "cell_type": "code",
   "execution_count": 52,
   "metadata": {},
   "outputs": [
    {
     "data": {
      "text/plain": [
       "763"
      ]
     },
     "execution_count": 52,
     "metadata": {},
     "output_type": "execute_result"
    }
   ],
   "source": [
    "mad_median_tf_dist.loc[mad_median_tf_dist['mad'] <= 1e-3].shape[0]"
   ]
  }
 ],
 "metadata": {
  "kernelspec": {
   "display_name": "base",
   "language": "python",
   "name": "python3"
  },
  "language_info": {
   "codemirror_mode": {
    "name": "ipython",
    "version": 3
   },
   "file_extension": ".py",
   "mimetype": "text/x-python",
   "name": "python",
   "nbconvert_exporter": "python",
   "pygments_lexer": "ipython3",
   "version": "3.9.16"
  },
  "orig_nbformat": 4
 },
 "nbformat": 4,
 "nbformat_minor": 2
}
