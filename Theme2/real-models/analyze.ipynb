{
 "cells": [
  {
   "cell_type": "code",
   "execution_count": 1,
   "metadata": {},
   "outputs": [],
   "source": [
    "import numpy as np\n",
    "import json\n",
    "import hashlib\n",
    "import pandas as pd"
   ]
  },
  {
   "attachments": {},
   "cell_type": "markdown",
   "metadata": {},
   "source": [
    "# TF"
   ]
  },
  {
   "cell_type": "code",
   "execution_count": 9,
   "metadata": {},
   "outputs": [],
   "source": [
    "tf_results = pd.read_json(\"./tf2onnx_conv_results.json\")"
   ]
  },
  {
   "attachments": {},
   "cell_type": "markdown",
   "metadata": {},
   "source": [
    "## TF Incorrect Output"
   ]
  },
  {
   "cell_type": "code",
   "execution_count": 10,
   "metadata": {},
   "outputs": [
    {
     "data": {
      "text/plain": [
       "(9, 11)"
      ]
     },
     "execution_count": 10,
     "metadata": {},
     "output_type": "execute_result"
    }
   ],
   "source": [
    "tf_results.loc[tf_results['max_abs_diff'] >= 1e-3].shape"
   ]
  },
  {
   "attachments": {},
   "cell_type": "markdown",
   "metadata": {},
   "source": [
    "## TF Conv. Error"
   ]
  },
  {
   "cell_type": "code",
   "execution_count": 24,
   "metadata": {},
   "outputs": [
    {
     "data": {
      "text/plain": [
       "65"
      ]
     },
     "execution_count": 24,
     "metadata": {},
     "output_type": "execute_result"
    }
   ],
   "source": [
    "conv_err_count = 0\n",
    "for i, row in tf_results.iterrows():\n",
    "    for filepaths in row['file_path']:\n",
    "        if (\"/tf2onnx\" in filepaths):\n",
    "            # print(row['error_tuples'])\n",
    "            conv_err_count += 1\n",
    "            # print(row['error_des'])\n",
    "conv_err_count"
   ]
  },
  {
   "attachments": {},
   "cell_type": "markdown",
   "metadata": {},
   "source": [
    "## TF ONNX RUNTIME"
   ]
  },
  {
   "cell_type": "code",
   "execution_count": 25,
   "metadata": {},
   "outputs": [
    {
     "name": "stdout",
     "output_type": "stream",
     "text": [
      "19\n",
      "19\n"
     ]
    }
   ],
   "source": [
    "count = 0\n",
    "indices = []\n",
    "for i, row in tf_results.iterrows():\n",
    "    for filepaths in row['file_path']:\n",
    "        if (\"onnxruntime\" in filepaths):\n",
    "            # print(row['error_tuples'], row['error'])\n",
    "            indices.append(i)\n",
    "            count += 1\n",
    "            continue\n",
    "print(count)\n",
    "print(len(indices))"
   ]
  },
  {
   "attachments": {},
   "cell_type": "markdown",
   "metadata": {},
   "source": [
    "## TF Unsuccessful Conversion (HF)"
   ]
  },
  {
   "cell_type": "code",
   "execution_count": 27,
   "metadata": {},
   "outputs": [
    {
     "data": {
      "text/plain": [
       "456"
      ]
     },
     "execution_count": 27,
     "metadata": {},
     "output_type": "execute_result"
    }
   ],
   "source": [
    "tf_results.loc[tf_results['error'] == 1].shape[0] - conv_err_count"
   ]
  },
  {
   "attachments": {},
   "cell_type": "markdown",
   "metadata": {},
   "source": [
    "## TF Success"
   ]
  },
  {
   "cell_type": "code",
   "execution_count": 28,
   "metadata": {},
   "outputs": [
    {
     "data": {
      "text/plain": [
       "(1212, 11)"
      ]
     },
     "execution_count": 28,
     "metadata": {},
     "output_type": "execute_result"
    }
   ],
   "source": [
    "maybe_success = tf_results.loc[(tf_results['error'] == 0) & (tf_results['max_abs_diff'] < 1e-3)]\n",
    "maybe_success.drop(indices).shape"
   ]
  },
  {
   "cell_type": "code",
   "execution_count": 161,
   "metadata": {},
   "outputs": [
    {
     "data": {
      "text/plain": [
       "65"
      ]
     },
     "execution_count": 161,
     "metadata": {},
     "output_type": "execute_result"
    }
   ],
   "source": []
  },
  {
   "cell_type": "code",
   "execution_count": 162,
   "metadata": {},
   "outputs": [
    {
     "data": {
      "text/html": [
       "<div>\n",
       "<style scoped>\n",
       "    .dataframe tbody tr th:only-of-type {\n",
       "        vertical-align: middle;\n",
       "    }\n",
       "\n",
       "    .dataframe tbody tr th {\n",
       "        vertical-align: top;\n",
       "    }\n",
       "\n",
       "    .dataframe thead th {\n",
       "        text-align: right;\n",
       "    }\n",
       "</style>\n",
       "<table border=\"1\" class=\"dataframe\">\n",
       "  <thead>\n",
       "    <tr style=\"text-align: right;\">\n",
       "      <th></th>\n",
       "      <th>model_id</th>\n",
       "      <th>error</th>\n",
       "      <th>error_des</th>\n",
       "      <th>output</th>\n",
       "      <th>error_type</th>\n",
       "      <th>file_path</th>\n",
       "      <th>line_number</th>\n",
       "      <th>error_tuples</th>\n",
       "      <th>max_abs_diff</th>\n",
       "      <th>model_type</th>\n",
       "      <th>tags</th>\n",
       "    </tr>\n",
       "  </thead>\n",
       "  <tbody>\n",
       "    <tr>\n",
       "      <th>0</th>\n",
       "      <td>ml6team-mt5-small-german-finetune-mlsum</td>\n",
       "      <td>1</td>\n",
       "      <td>2023-02-19 20:46:21.457633: I tensorflow/core/...</td>\n",
       "      <td>[]</td>\n",
       "      <td>[ValueError, ValueError]</td>\n",
       "      <td>[tf2onnx/lib/python3.9/site-packages/transform...</td>\n",
       "      <td>[288, 120]</td>\n",
       "      <td>[[tf2onnx/lib/python3.9/site-packages/transfor...</td>\n",
       "      <td>0.0</td>\n",
       "      <td>t5</td>\n",
       "      <td>[pytorch, tf, t5, text2text-generation, de, da...</td>\n",
       "    </tr>\n",
       "    <tr>\n",
       "      <th>1</th>\n",
       "      <td>facebook-s2t-small-covost2-es-en-st</td>\n",
       "      <td>1</td>\n",
       "      <td>2023-02-19 20:46:27.107736: I tensorflow/core/...</td>\n",
       "      <td>[]</td>\n",
       "      <td>[KeyError]</td>\n",
       "      <td>[tf2onnx/lib/python3.9/site-packages/transform...</td>\n",
       "      <td>[562]</td>\n",
       "      <td>[[tf2onnx/lib/python3.9/site-packages/transfor...</td>\n",
       "      <td>0.0</td>\n",
       "      <td>speech_to_text</td>\n",
       "      <td>[pytorch, tf, speech_to_text, automatic-speech...</td>\n",
       "    </tr>\n",
       "    <tr>\n",
       "      <th>6</th>\n",
       "      <td>ibraheemmoosa-xlmindic-base-uniscript-soham</td>\n",
       "      <td>1</td>\n",
       "      <td>2023-02-19 20:48:16.843826: I tensorflow/core/...</td>\n",
       "      <td>[]</td>\n",
       "      <td>[ValueError, ValueError]</td>\n",
       "      <td>[tf2onnx/lib/python3.9/site-packages/transform...</td>\n",
       "      <td>[288, 120]</td>\n",
       "      <td>[[tf2onnx/lib/python3.9/site-packages/transfor...</td>\n",
       "      <td>0.0</td>\n",
       "      <td>albert</td>\n",
       "      <td>[pytorch, tf, jax, albert, text-classification...</td>\n",
       "    </tr>\n",
       "    <tr>\n",
       "      <th>11</th>\n",
       "      <td>google-t5-v1_1-large</td>\n",
       "      <td>1</td>\n",
       "      <td>2023-02-19 20:50:14.787453: I tensorflow/core/...</td>\n",
       "      <td>[]</td>\n",
       "      <td>[ValueError, ValueError]</td>\n",
       "      <td>[tf2onnx/lib/python3.9/site-packages/transform...</td>\n",
       "      <td>[288, 120]</td>\n",
       "      <td>[[tf2onnx/lib/python3.9/site-packages/transfor...</td>\n",
       "      <td>0.0</td>\n",
       "      <td>t5</td>\n",
       "      <td>[pytorch, tf, jax, t5, text2text-generation, e...</td>\n",
       "    </tr>\n",
       "    <tr>\n",
       "      <th>12</th>\n",
       "      <td>google-vit-base-patch16-224-in21k</td>\n",
       "      <td>1</td>\n",
       "      <td>2023-02-19 20:50:27.573344: I tensorflow/core/...</td>\n",
       "      <td>[]</td>\n",
       "      <td>[ValueError, ImportError]</td>\n",
       "      <td>[tf2onnx/lib/python3.9/site-packages/transform...</td>\n",
       "      <td>[288, 997]</td>\n",
       "      <td>[[tf2onnx/lib/python3.9/site-packages/transfor...</td>\n",
       "      <td>0.0</td>\n",
       "      <td>vit</td>\n",
       "      <td>[pytorch, tf, jax, vit, feature-extraction, da...</td>\n",
       "    </tr>\n",
       "    <tr>\n",
       "      <th>...</th>\n",
       "      <td>...</td>\n",
       "      <td>...</td>\n",
       "      <td>...</td>\n",
       "      <td>...</td>\n",
       "      <td>...</td>\n",
       "      <td>...</td>\n",
       "      <td>...</td>\n",
       "      <td>...</td>\n",
       "      <td>...</td>\n",
       "      <td>...</td>\n",
       "      <td>...</td>\n",
       "    </tr>\n",
       "    <tr>\n",
       "      <th>1737</th>\n",
       "      <td>mesolitica-t5-small-finetuned-noisy-ms-en</td>\n",
       "      <td>1</td>\n",
       "      <td>2023-02-19 13:42:13.967176: I tensorflow/core/...</td>\n",
       "      <td>[]</td>\n",
       "      <td>[ValueError, ValueError]</td>\n",
       "      <td>[tf2onnx/lib/python3.9/site-packages/transform...</td>\n",
       "      <td>[288, 120]</td>\n",
       "      <td>[[tf2onnx/lib/python3.9/site-packages/transfor...</td>\n",
       "      <td>0.0</td>\n",
       "      <td>t5</td>\n",
       "      <td>[pytorch, tf, tensorboard, t5, text2text-gener...</td>\n",
       "    </tr>\n",
       "    <tr>\n",
       "      <th>1748</th>\n",
       "      <td>ibraheemmoosa-xlmindic-base-uniscript</td>\n",
       "      <td>1</td>\n",
       "      <td>2023-02-19 13:49:03.415196: I tensorflow/core/...</td>\n",
       "      <td>[]</td>\n",
       "      <td>[ValueError, ValueError]</td>\n",
       "      <td>[tf2onnx/lib/python3.9/site-packages/transform...</td>\n",
       "      <td>[288, 120]</td>\n",
       "      <td>[[tf2onnx/lib/python3.9/site-packages/transfor...</td>\n",
       "      <td>0.0</td>\n",
       "      <td>albert</td>\n",
       "      <td>[pytorch, tf, jax, albert, text-classification...</td>\n",
       "    </tr>\n",
       "    <tr>\n",
       "      <th>1750</th>\n",
       "      <td>bayartsogt-albert-mongolian</td>\n",
       "      <td>1</td>\n",
       "      <td>2023-02-19 13:49:42.702163: I tensorflow/core/...</td>\n",
       "      <td>[]</td>\n",
       "      <td>[ValueError, ValueError]</td>\n",
       "      <td>[tf2onnx/lib/python3.9/site-packages/transform...</td>\n",
       "      <td>[288, 120]</td>\n",
       "      <td>[[tf2onnx/lib/python3.9/site-packages/transfor...</td>\n",
       "      <td>0.0</td>\n",
       "      <td>albert</td>\n",
       "      <td>[pytorch, tf, albert, fill-mask, mn, arxiv:190...</td>\n",
       "    </tr>\n",
       "    <tr>\n",
       "      <th>1752</th>\n",
       "      <td>google-t5-efficient-base-nl36</td>\n",
       "      <td>1</td>\n",
       "      <td>2023-02-19 13:50:56.852301: I tensorflow/core/...</td>\n",
       "      <td>[]</td>\n",
       "      <td>[ValueError, ValueError]</td>\n",
       "      <td>[tf2onnx/lib/python3.9/site-packages/tensorflo...</td>\n",
       "      <td>[497, 221]</td>\n",
       "      <td>[[tf2onnx/lib/python3.9/site-packages/tensorfl...</td>\n",
       "      <td>0.0</td>\n",
       "      <td>t5</td>\n",
       "      <td>[pytorch, tf, jax, t5, text2text-generation, e...</td>\n",
       "    </tr>\n",
       "    <tr>\n",
       "      <th>1755</th>\n",
       "      <td>facebook-xglm-564M</td>\n",
       "      <td>1</td>\n",
       "      <td>2023-02-19 13:52:07.836439: I tensorflow/core/...</td>\n",
       "      <td>[]</td>\n",
       "      <td>[KeyError]</td>\n",
       "      <td>[tf2onnx/lib/python3.9/site-packages/transform...</td>\n",
       "      <td>[562]</td>\n",
       "      <td>[[tf2onnx/lib/python3.9/site-packages/transfor...</td>\n",
       "      <td>0.0</td>\n",
       "      <td>xglm</td>\n",
       "      <td>[pytorch, tf, jax, xglm, text-generation, mult...</td>\n",
       "    </tr>\n",
       "  </tbody>\n",
       "</table>\n",
       "<p>521 rows × 11 columns</p>\n",
       "</div>"
      ],
      "text/plain": [
       "                                         model_id  error  \\\n",
       "0         ml6team-mt5-small-german-finetune-mlsum      1   \n",
       "1             facebook-s2t-small-covost2-es-en-st      1   \n",
       "6     ibraheemmoosa-xlmindic-base-uniscript-soham      1   \n",
       "11                           google-t5-v1_1-large      1   \n",
       "12              google-vit-base-patch16-224-in21k      1   \n",
       "...                                           ...    ...   \n",
       "1737    mesolitica-t5-small-finetuned-noisy-ms-en      1   \n",
       "1748        ibraheemmoosa-xlmindic-base-uniscript      1   \n",
       "1750                  bayartsogt-albert-mongolian      1   \n",
       "1752                google-t5-efficient-base-nl36      1   \n",
       "1755                           facebook-xglm-564M      1   \n",
       "\n",
       "                                              error_des output  \\\n",
       "0     2023-02-19 20:46:21.457633: I tensorflow/core/...     []   \n",
       "1     2023-02-19 20:46:27.107736: I tensorflow/core/...     []   \n",
       "6     2023-02-19 20:48:16.843826: I tensorflow/core/...     []   \n",
       "11    2023-02-19 20:50:14.787453: I tensorflow/core/...     []   \n",
       "12    2023-02-19 20:50:27.573344: I tensorflow/core/...     []   \n",
       "...                                                 ...    ...   \n",
       "1737  2023-02-19 13:42:13.967176: I tensorflow/core/...     []   \n",
       "1748  2023-02-19 13:49:03.415196: I tensorflow/core/...     []   \n",
       "1750  2023-02-19 13:49:42.702163: I tensorflow/core/...     []   \n",
       "1752  2023-02-19 13:50:56.852301: I tensorflow/core/...     []   \n",
       "1755  2023-02-19 13:52:07.836439: I tensorflow/core/...     []   \n",
       "\n",
       "                     error_type  \\\n",
       "0      [ValueError, ValueError]   \n",
       "1                    [KeyError]   \n",
       "6      [ValueError, ValueError]   \n",
       "11     [ValueError, ValueError]   \n",
       "12    [ValueError, ImportError]   \n",
       "...                         ...   \n",
       "1737   [ValueError, ValueError]   \n",
       "1748   [ValueError, ValueError]   \n",
       "1750   [ValueError, ValueError]   \n",
       "1752   [ValueError, ValueError]   \n",
       "1755                 [KeyError]   \n",
       "\n",
       "                                              file_path line_number  \\\n",
       "0     [tf2onnx/lib/python3.9/site-packages/transform...  [288, 120]   \n",
       "1     [tf2onnx/lib/python3.9/site-packages/transform...       [562]   \n",
       "6     [tf2onnx/lib/python3.9/site-packages/transform...  [288, 120]   \n",
       "11    [tf2onnx/lib/python3.9/site-packages/transform...  [288, 120]   \n",
       "12    [tf2onnx/lib/python3.9/site-packages/transform...  [288, 997]   \n",
       "...                                                 ...         ...   \n",
       "1737  [tf2onnx/lib/python3.9/site-packages/transform...  [288, 120]   \n",
       "1748  [tf2onnx/lib/python3.9/site-packages/transform...  [288, 120]   \n",
       "1750  [tf2onnx/lib/python3.9/site-packages/transform...  [288, 120]   \n",
       "1752  [tf2onnx/lib/python3.9/site-packages/tensorflo...  [497, 221]   \n",
       "1755  [tf2onnx/lib/python3.9/site-packages/transform...       [562]   \n",
       "\n",
       "                                           error_tuples  max_abs_diff  \\\n",
       "0     [[tf2onnx/lib/python3.9/site-packages/transfor...           0.0   \n",
       "1     [[tf2onnx/lib/python3.9/site-packages/transfor...           0.0   \n",
       "6     [[tf2onnx/lib/python3.9/site-packages/transfor...           0.0   \n",
       "11    [[tf2onnx/lib/python3.9/site-packages/transfor...           0.0   \n",
       "12    [[tf2onnx/lib/python3.9/site-packages/transfor...           0.0   \n",
       "...                                                 ...           ...   \n",
       "1737  [[tf2onnx/lib/python3.9/site-packages/transfor...           0.0   \n",
       "1748  [[tf2onnx/lib/python3.9/site-packages/transfor...           0.0   \n",
       "1750  [[tf2onnx/lib/python3.9/site-packages/transfor...           0.0   \n",
       "1752  [[tf2onnx/lib/python3.9/site-packages/tensorfl...           0.0   \n",
       "1755  [[tf2onnx/lib/python3.9/site-packages/transfor...           0.0   \n",
       "\n",
       "          model_type                                               tags  \n",
       "0                 t5  [pytorch, tf, t5, text2text-generation, de, da...  \n",
       "1     speech_to_text  [pytorch, tf, speech_to_text, automatic-speech...  \n",
       "6             albert  [pytorch, tf, jax, albert, text-classification...  \n",
       "11                t5  [pytorch, tf, jax, t5, text2text-generation, e...  \n",
       "12               vit  [pytorch, tf, jax, vit, feature-extraction, da...  \n",
       "...              ...                                                ...  \n",
       "1737              t5  [pytorch, tf, tensorboard, t5, text2text-gener...  \n",
       "1748          albert  [pytorch, tf, jax, albert, text-classification...  \n",
       "1750          albert  [pytorch, tf, albert, fill-mask, mn, arxiv:190...  \n",
       "1752              t5  [pytorch, tf, jax, t5, text2text-generation, e...  \n",
       "1755            xglm  [pytorch, tf, jax, xglm, text-generation, mult...  \n",
       "\n",
       "[521 rows x 11 columns]"
      ]
     },
     "execution_count": 162,
     "metadata": {},
     "output_type": "execute_result"
    }
   ],
   "source": [
    "tf_results.loc[(tf_results['error'] == 1)]"
   ]
  },
  {
   "cell_type": "code",
   "execution_count": 202,
   "metadata": {},
   "outputs": [
    {
     "data": {
      "text/plain": [
       "58"
      ]
     },
     "execution_count": 202,
     "metadata": {},
     "output_type": "execute_result"
    }
   ],
   "source": [
    "len(tf_results['model_type'].unique())"
   ]
  },
  {
   "cell_type": "code",
   "execution_count": 190,
   "metadata": {},
   "outputs": [
    {
     "data": {
      "text/plain": [
       "0    183\n",
       "1    122\n",
       "Name: error, dtype: int64"
      ]
     },
     "execution_count": 190,
     "metadata": {},
     "output_type": "execute_result"
    }
   ],
   "source": [
    "tf_results.loc[(tf_results['model_type'] == \"t5\")]['error'].value_counts()"
   ]
  },
  {
   "cell_type": "code",
   "execution_count": 184,
   "metadata": {},
   "outputs": [],
   "source": [
    "x = tf_results.loc[(tf_results['model_type'] == \"t5\")]"
   ]
  },
  {
   "cell_type": "code",
   "execution_count": 191,
   "metadata": {},
   "outputs": [
    {
     "name": "stdout",
     "output_type": "stream",
     "text": [
      "[['tf2onnx/lib/python3.9/site-packages/tensorflow/python/framework/importer.py', 'ValueError', '497'], ['tf2onnx/lib/python3.9/site-packages/tf2onnx/tf_loader.py', 'ValueError', '221']]\n",
      "[['tf2onnx/lib/python3.9/site-packages/tensorflow/python/framework/importer.py', 'ValueError', '497'], ['tf2onnx/lib/python3.9/site-packages/tf2onnx/tf_loader.py', 'ValueError', '221']]\n",
      "[['tf2onnx/lib/python3.9/site-packages/tensorflow/python/framework/importer.py', 'ValueError', '497'], ['tf2onnx/lib/python3.9/site-packages/tf2onnx/tf_loader.py', 'ValueError', '221']]\n",
      "[['tf2onnx/lib/python3.9/site-packages/tensorflow/python/framework/importer.py', 'ValueError', '497'], ['tf2onnx/lib/python3.9/site-packages/tf2onnx/tf_loader.py', 'ValueError', '221']]\n",
      "[['tf2onnx/lib/python3.9/site-packages/tensorflow/python/framework/importer.py', 'ValueError', '497'], ['tf2onnx/lib/python3.9/site-packages/tf2onnx/tf_loader.py', 'ValueError', '221']]\n",
      "[['tf2onnx/lib/python3.9/site-packages/tensorflow/python/framework/importer.py', 'ValueError', '497'], ['tf2onnx/lib/python3.9/site-packages/tf2onnx/tf_loader.py', 'ValueError', '221']]\n",
      "[['tf2onnx/lib/python3.9/site-packages/tensorflow/python/framework/importer.py', 'ValueError', '497'], ['tf2onnx/lib/python3.9/site-packages/tf2onnx/tf_loader.py', 'ValueError', '221']]\n",
      "[['tf2onnx/lib/python3.9/site-packages/tensorflow/python/framework/importer.py', 'ValueError', '497'], ['tf2onnx/lib/python3.9/site-packages/tf2onnx/tf_loader.py', 'ValueError', '221']]\n",
      "[['tf2onnx/lib/python3.9/site-packages/tensorflow/python/framework/importer.py', 'ValueError', '497'], ['tf2onnx/lib/python3.9/site-packages/tf2onnx/tf_loader.py', 'ValueError', '221']]\n",
      "[['tf2onnx/lib/python3.9/site-packages/tensorflow/python/framework/importer.py', 'ValueError', '497'], ['tf2onnx/lib/python3.9/site-packages/tf2onnx/tf_loader.py', 'ValueError', '221']]\n",
      "[['tf2onnx/lib/python3.9/site-packages/tensorflow/python/framework/importer.py', 'ValueError', '497'], ['tf2onnx/lib/python3.9/site-packages/tf2onnx/tf_loader.py', 'ValueError', '221']]\n",
      "[['tf2onnx/lib/python3.9/site-packages/tensorflow/python/framework/importer.py', 'ValueError', '497'], ['tf2onnx/lib/python3.9/site-packages/tf2onnx/tf_loader.py', 'ValueError', '221']]\n",
      "[['tf2onnx/lib/python3.9/site-packages/tensorflow/python/framework/importer.py', 'ValueError', '497'], ['tf2onnx/lib/python3.9/site-packages/tf2onnx/tf_loader.py', 'ValueError', '221']]\n",
      "[['tf2onnx/lib/python3.9/site-packages/tensorflow/python/framework/importer.py', 'ValueError', '497'], ['tf2onnx/lib/python3.9/site-packages/tf2onnx/tf_loader.py', 'ValueError', '221']]\n",
      "[['tf2onnx/lib/python3.9/site-packages/tensorflow/python/framework/importer.py', 'ValueError', '497'], ['tf2onnx/lib/python3.9/site-packages/tf2onnx/tf_loader.py', 'ValueError', '221']]\n",
      "[['tf2onnx/lib/python3.9/site-packages/tensorflow/python/framework/importer.py', 'ValueError', '497'], ['tf2onnx/lib/python3.9/site-packages/tf2onnx/tf_loader.py', 'ValueError', '221']]\n",
      "[['tf2onnx/lib/python3.9/site-packages/tensorflow/python/framework/importer.py', 'ValueError', '497'], ['tf2onnx/lib/python3.9/site-packages/tf2onnx/tf_loader.py', 'ValueError', '221']]\n",
      "[['tf2onnx/lib/python3.9/site-packages/tensorflow/python/framework/importer.py', 'ValueError', '497'], ['tf2onnx/lib/python3.9/site-packages/tf2onnx/tf_loader.py', 'ValueError', '221']]\n",
      "[['tf2onnx/lib/python3.9/site-packages/tensorflow/python/framework/importer.py', 'ValueError', '497'], ['tf2onnx/lib/python3.9/site-packages/tf2onnx/tf_loader.py', 'ValueError', '221']]\n",
      "[['tf2onnx/lib/python3.9/site-packages/tensorflow/python/framework/importer.py', 'ValueError', '497'], ['tf2onnx/lib/python3.9/site-packages/tf2onnx/tf_loader.py', 'ValueError', '221']]\n",
      "[['tf2onnx/lib/python3.9/site-packages/tensorflow/python/framework/importer.py', 'ValueError', '497'], ['tf2onnx/lib/python3.9/site-packages/tf2onnx/tf_loader.py', 'ValueError', '221']]\n",
      "[['tf2onnx/lib/python3.9/site-packages/tensorflow/python/framework/importer.py', 'ValueError', '497'], ['tf2onnx/lib/python3.9/site-packages/tf2onnx/tf_loader.py', 'ValueError', '221']]\n",
      "[['tf2onnx/lib/python3.9/site-packages/tensorflow/python/framework/importer.py', 'ValueError', '497'], ['tf2onnx/lib/python3.9/site-packages/tf2onnx/tf_loader.py', 'ValueError', '221']]\n",
      "[['tf2onnx/lib/python3.9/site-packages/tensorflow/python/framework/importer.py', 'ValueError', '497'], ['tf2onnx/lib/python3.9/site-packages/tf2onnx/tf_loader.py', 'ValueError', '221']]\n",
      "[['tf2onnx/lib/python3.9/site-packages/tensorflow/python/framework/importer.py', 'ValueError', '497'], ['tf2onnx/lib/python3.9/site-packages/tf2onnx/tf_loader.py', 'ValueError', '221']]\n",
      "[['tf2onnx/lib/python3.9/site-packages/tensorflow/python/framework/importer.py', 'ValueError', '497'], ['tf2onnx/lib/python3.9/site-packages/tf2onnx/tf_loader.py', 'ValueError', '221']]\n",
      "[['tf2onnx/lib/python3.9/site-packages/tensorflow/python/framework/importer.py', 'ValueError', '497'], ['tf2onnx/lib/python3.9/site-packages/tf2onnx/tf_loader.py', 'ValueError', '221']]\n",
      "[['tf2onnx/lib/python3.9/site-packages/tensorflow/python/framework/importer.py', 'ValueError', '497'], ['tf2onnx/lib/python3.9/site-packages/tf2onnx/tf_loader.py', 'ValueError', '221']]\n",
      "[['tf2onnx/lib/python3.9/site-packages/tensorflow/python/framework/importer.py', 'ValueError', '497'], ['tf2onnx/lib/python3.9/site-packages/tf2onnx/tf_loader.py', 'ValueError', '221']]\n",
      "[['tf2onnx/lib/python3.9/site-packages/tensorflow/python/framework/importer.py', 'ValueError', '497'], ['tf2onnx/lib/python3.9/site-packages/tf2onnx/tf_loader.py', 'ValueError', '221']]\n",
      "[['tf2onnx/lib/python3.9/site-packages/tensorflow/python/framework/importer.py', 'ValueError', '497'], ['tf2onnx/lib/python3.9/site-packages/tf2onnx/tf_loader.py', 'ValueError', '221']]\n",
      "[['tf2onnx/lib/python3.9/site-packages/tensorflow/python/framework/importer.py', 'ValueError', '497'], ['tf2onnx/lib/python3.9/site-packages/tf2onnx/tf_loader.py', 'ValueError', '221']]\n",
      "[['tf2onnx/lib/python3.9/site-packages/tensorflow/python/framework/importer.py', 'ValueError', '497'], ['tf2onnx/lib/python3.9/site-packages/tf2onnx/tf_loader.py', 'ValueError', '221']]\n",
      "[['tf2onnx/lib/python3.9/site-packages/tensorflow/python/framework/importer.py', 'ValueError', '497'], ['tf2onnx/lib/python3.9/site-packages/tf2onnx/tf_loader.py', 'ValueError', '221']]\n",
      "[['tf2onnx/lib/python3.9/site-packages/tensorflow/python/framework/importer.py', 'ValueError', '497'], ['tf2onnx/lib/python3.9/site-packages/tf2onnx/tf_loader.py', 'ValueError', '221']]\n",
      "[['tf2onnx/lib/python3.9/site-packages/tensorflow/python/framework/importer.py', 'ValueError', '497'], ['tf2onnx/lib/python3.9/site-packages/tf2onnx/tf_loader.py', 'ValueError', '221']]\n",
      "[['tf2onnx/lib/python3.9/site-packages/tensorflow/python/framework/importer.py', 'ValueError', '497'], ['tf2onnx/lib/python3.9/site-packages/tf2onnx/tf_loader.py', 'ValueError', '221']]\n",
      "[['tf2onnx/lib/python3.9/site-packages/tensorflow/python/framework/importer.py', 'ValueError', '497'], ['tf2onnx/lib/python3.9/site-packages/tf2onnx/tf_loader.py', 'ValueError', '221']]\n",
      "[['tf2onnx/lib/python3.9/site-packages/tensorflow/python/framework/importer.py', 'ValueError', '497'], ['tf2onnx/lib/python3.9/site-packages/tf2onnx/tf_loader.py', 'ValueError', '221']]\n",
      "[['tf2onnx/lib/python3.9/site-packages/tensorflow/python/framework/importer.py', 'ValueError', '497'], ['tf2onnx/lib/python3.9/site-packages/tf2onnx/tf_loader.py', 'ValueError', '221']]\n",
      "[['tf2onnx/lib/python3.9/site-packages/tensorflow/python/framework/importer.py', 'ValueError', '497'], ['tf2onnx/lib/python3.9/site-packages/tf2onnx/tf_loader.py', 'ValueError', '221']]\n",
      "[['tf2onnx/lib/python3.9/site-packages/tensorflow/python/framework/importer.py', 'ValueError', '497'], ['tf2onnx/lib/python3.9/site-packages/tf2onnx/tf_loader.py', 'ValueError', '221']]\n",
      "[['tf2onnx/lib/python3.9/site-packages/tensorflow/python/framework/importer.py', 'ValueError', '497'], ['tf2onnx/lib/python3.9/site-packages/tf2onnx/tf_loader.py', 'ValueError', '221']]\n",
      "[['tf2onnx/lib/python3.9/site-packages/tensorflow/python/framework/importer.py', 'ValueError', '497'], ['tf2onnx/lib/python3.9/site-packages/tf2onnx/tf_loader.py', 'ValueError', '221']]\n",
      "[['tf2onnx/lib/python3.9/site-packages/tensorflow/python/framework/importer.py', 'ValueError', '497'], ['tf2onnx/lib/python3.9/site-packages/tf2onnx/tf_loader.py', 'ValueError', '221']]\n",
      "[['tf2onnx/lib/python3.9/site-packages/tensorflow/python/framework/importer.py', 'ValueError', '497'], ['tf2onnx/lib/python3.9/site-packages/tf2onnx/tf_loader.py', 'ValueError', '221']]\n",
      "[['tf2onnx/lib/python3.9/site-packages/tensorflow/python/framework/importer.py', 'ValueError', '497'], ['tf2onnx/lib/python3.9/site-packages/tf2onnx/tf_loader.py', 'ValueError', '221']]\n",
      "[['tf2onnx/lib/python3.9/site-packages/tensorflow/python/framework/importer.py', 'ValueError', '497'], ['tf2onnx/lib/python3.9/site-packages/tf2onnx/tf_loader.py', 'ValueError', '221']]\n",
      "[['tf2onnx/lib/python3.9/site-packages/tensorflow/python/framework/importer.py', 'ValueError', '497'], ['tf2onnx/lib/python3.9/site-packages/tf2onnx/tf_loader.py', 'ValueError', '221']]\n",
      "[['tf2onnx/lib/python3.9/site-packages/tensorflow/python/framework/importer.py', 'ValueError', '497'], ['tf2onnx/lib/python3.9/site-packages/tf2onnx/tf_loader.py', 'ValueError', '221']]\n",
      "[['tf2onnx/lib/python3.9/site-packages/tensorflow/python/framework/importer.py', 'ValueError', '497'], ['tf2onnx/lib/python3.9/site-packages/tf2onnx/tf_loader.py', 'ValueError', '221']]\n",
      "[['tf2onnx/lib/python3.9/site-packages/tensorflow/python/framework/importer.py', 'ValueError', '497'], ['tf2onnx/lib/python3.9/site-packages/tf2onnx/tf_loader.py', 'ValueError', '221']]\n",
      "[['tf2onnx/lib/python3.9/site-packages/tensorflow/python/framework/importer.py', 'ValueError', '497'], ['tf2onnx/lib/python3.9/site-packages/tf2onnx/tf_loader.py', 'ValueError', '221']]\n",
      "[['tf2onnx/lib/python3.9/site-packages/tensorflow/python/framework/importer.py', 'ValueError', '497'], ['tf2onnx/lib/python3.9/site-packages/tf2onnx/tf_loader.py', 'ValueError', '221']]\n",
      "[['tf2onnx/lib/python3.9/site-packages/tensorflow/python/framework/importer.py', 'ValueError', '497'], ['tf2onnx/lib/python3.9/site-packages/tf2onnx/tf_loader.py', 'ValueError', '221']]\n",
      "[['tf2onnx/lib/python3.9/site-packages/tensorflow/python/framework/importer.py', 'ValueError', '497'], ['tf2onnx/lib/python3.9/site-packages/tf2onnx/tf_loader.py', 'ValueError', '221']]\n"
     ]
    }
   ],
   "source": [
    "count = 0\n",
    "ind = []\n",
    "for i, row in x.iterrows():\n",
    "    for filepaths in row['file_path']:\n",
    "        if (\"/tf2onnx\" in filepaths):\n",
    "            print(row['error_tuples'])\n",
    "            count += 1\n",
    "            ind.append(i)\n",
    "            continue\n",
    "            # print(row['error_des'])"
   ]
  },
  {
   "cell_type": "code",
   "execution_count": 197,
   "metadata": {},
   "outputs": [],
   "source": [
    "y = x.drop(ind)"
   ]
  },
  {
   "cell_type": "code",
   "execution_count": 198,
   "metadata": {},
   "outputs": [
    {
     "name": "stdout",
     "output_type": "stream",
     "text": [
      "1\n"
     ]
    }
   ],
   "source": [
    "count = 0\n",
    "indices = []\n",
    "for i, row in y.iterrows():\n",
    "    for filepaths in row['file_path']:\n",
    "        if (\"onnxruntime\" in filepaths):\n",
    "            # print(row['error_tuples'], row['error'])\n",
    "            indices.append(i)\n",
    "            count += 1\n",
    "            continue\n",
    "print(count)"
   ]
  },
  {
   "cell_type": "code",
   "execution_count": 200,
   "metadata": {},
   "outputs": [
    {
     "data": {
      "text/html": [
       "<div>\n",
       "<style scoped>\n",
       "    .dataframe tbody tr th:only-of-type {\n",
       "        vertical-align: middle;\n",
       "    }\n",
       "\n",
       "    .dataframe tbody tr th {\n",
       "        vertical-align: top;\n",
       "    }\n",
       "\n",
       "    .dataframe thead th {\n",
       "        text-align: right;\n",
       "    }\n",
       "</style>\n",
       "<table border=\"1\" class=\"dataframe\">\n",
       "  <thead>\n",
       "    <tr style=\"text-align: right;\">\n",
       "      <th></th>\n",
       "      <th>model_id</th>\n",
       "      <th>error</th>\n",
       "      <th>error_des</th>\n",
       "      <th>output</th>\n",
       "      <th>error_type</th>\n",
       "      <th>file_path</th>\n",
       "      <th>line_number</th>\n",
       "      <th>error_tuples</th>\n",
       "      <th>max_abs_diff</th>\n",
       "      <th>model_type</th>\n",
       "      <th>tags</th>\n",
       "    </tr>\n",
       "  </thead>\n",
       "  <tbody>\n",
       "    <tr>\n",
       "      <th>494</th>\n",
       "      <td>google-t5-efficient-tiny-nh1</td>\n",
       "      <td>0</td>\n",
       "      <td>2023-02-19 14:25:04.984778: I tensorflow/core/...</td>\n",
       "      <td>[/home/pjajal/tmp7oxjop9y/model.onnx]</td>\n",
       "      <td>[ONNXRuntimeError]</td>\n",
       "      <td>[tf2onnx/lib/python3.9/site-packages/onnxrunti...</td>\n",
       "      <td>[200]</td>\n",
       "      <td>[[tf2onnx/lib/python3.9/site-packages/onnxrunt...</td>\n",
       "      <td>0.0</td>\n",
       "      <td>t5</td>\n",
       "      <td>[pytorch, tf, jax, t5, text2text-generation, e...</td>\n",
       "    </tr>\n",
       "  </tbody>\n",
       "</table>\n",
       "</div>"
      ],
      "text/plain": [
       "                         model_id  error  \\\n",
       "494  google-t5-efficient-tiny-nh1      0   \n",
       "\n",
       "                                             error_des  \\\n",
       "494  2023-02-19 14:25:04.984778: I tensorflow/core/...   \n",
       "\n",
       "                                    output          error_type  \\\n",
       "494  [/home/pjajal/tmp7oxjop9y/model.onnx]  [ONNXRuntimeError]   \n",
       "\n",
       "                                             file_path line_number  \\\n",
       "494  [tf2onnx/lib/python3.9/site-packages/onnxrunti...       [200]   \n",
       "\n",
       "                                          error_tuples  max_abs_diff  \\\n",
       "494  [[tf2onnx/lib/python3.9/site-packages/onnxrunt...           0.0   \n",
       "\n",
       "    model_type                                               tags  \n",
       "494         t5  [pytorch, tf, jax, t5, text2text-generation, e...  "
      ]
     },
     "execution_count": 200,
     "metadata": {},
     "output_type": "execute_result"
    }
   ],
   "source": [
    "y.loc[indices]"
   ]
  },
  {
   "attachments": {},
   "cell_type": "markdown",
   "metadata": {},
   "source": [
    "# PT"
   ]
  },
  {
   "cell_type": "code",
   "execution_count": 43,
   "metadata": {},
   "outputs": [
    {
     "data": {
      "text/plain": [
       "(1761, 11)"
      ]
     },
     "execution_count": 43,
     "metadata": {},
     "output_type": "execute_result"
    }
   ],
   "source": [
    "pt_results = pd.read_json(\"./pytorch_conv_results.json\")\n",
    "pt_results.shape"
   ]
  },
  {
   "attachments": {},
   "cell_type": "markdown",
   "metadata": {},
   "source": [
    "## PT Incorrect Output"
   ]
  },
  {
   "cell_type": "code",
   "execution_count": 44,
   "metadata": {},
   "outputs": [
    {
     "data": {
      "text/plain": [
       "(11, 11)"
      ]
     },
     "execution_count": 44,
     "metadata": {},
     "output_type": "execute_result"
    }
   ],
   "source": [
    "pt_results.loc[pt_results['max_abs_diff'] >= 1e-3].shape"
   ]
  },
  {
   "attachments": {},
   "cell_type": "markdown",
   "metadata": {},
   "source": [
    "## PT Conv Errs"
   ]
  },
  {
   "cell_type": "code",
   "execution_count": 45,
   "metadata": {},
   "outputs": [
    {
     "data": {
      "text/plain": [
       "20"
      ]
     },
     "execution_count": 45,
     "metadata": {},
     "output_type": "execute_result"
    }
   ],
   "source": [
    "conv_err_count = 0\n",
    "for i, row in pt_results.iterrows():\n",
    "    for filepaths in row['file_path']:\n",
    "        if (\"/torch/\" in filepaths):\n",
    "            conv_err_count += 1\n",
    "            continue\n",
    "conv_err_count"
   ]
  },
  {
   "attachments": {},
   "cell_type": "markdown",
   "metadata": {},
   "source": [
    "## PT ONNX Runtime"
   ]
  },
  {
   "cell_type": "code",
   "execution_count": 46,
   "metadata": {},
   "outputs": [
    {
     "name": "stdout",
     "output_type": "stream",
     "text": [
      "27\n",
      "27\n"
     ]
    }
   ],
   "source": [
    "count = 0\n",
    "indices = []\n",
    "for i, row in pt_results.iterrows():\n",
    "    for filepaths in row['file_path']:\n",
    "        if (\"onnxruntime\" in filepaths):\n",
    "            # print(row['error_tuples'], row['error'])\n",
    "            indices.append(i)\n",
    "            count += 1\n",
    "            continue\n",
    "print(count)\n",
    "print(len(indices))"
   ]
  },
  {
   "attachments": {},
   "cell_type": "markdown",
   "metadata": {},
   "source": [
    "## PT Unsuccessful Conversion (HF)"
   ]
  },
  {
   "cell_type": "code",
   "execution_count": 47,
   "metadata": {},
   "outputs": [
    {
     "data": {
      "text/plain": [
       "342"
      ]
     },
     "execution_count": 47,
     "metadata": {},
     "output_type": "execute_result"
    }
   ],
   "source": [
    "pt_results.loc[pt_results['error'] == 1].shape[0] - conv_err_count"
   ]
  },
  {
   "attachments": {},
   "cell_type": "markdown",
   "metadata": {},
   "source": [
    "## PT Success"
   ]
  },
  {
   "cell_type": "code",
   "execution_count": 48,
   "metadata": {},
   "outputs": [
    {
     "data": {
      "text/plain": [
       "(1361, 11)"
      ]
     },
     "execution_count": 48,
     "metadata": {},
     "output_type": "execute_result"
    }
   ],
   "source": [
    "maybe_success = pt_results.loc[(pt_results['error'] == 0) & (pt_results['max_abs_diff'] < 1e-3)]\n",
    "maybe_success.drop(indices).shape"
   ]
  },
  {
   "cell_type": "code",
   "execution_count": null,
   "metadata": {},
   "outputs": [],
   "source": []
  }
 ],
 "metadata": {
  "kernelspec": {
   "display_name": "base",
   "language": "python",
   "name": "python3"
  },
  "language_info": {
   "codemirror_mode": {
    "name": "ipython",
    "version": 3
   },
   "file_extension": ".py",
   "mimetype": "text/x-python",
   "name": "python",
   "nbconvert_exporter": "python",
   "pygments_lexer": "ipython3",
   "version": "3.9.16"
  },
  "orig_nbformat": 4
 },
 "nbformat": 4,
 "nbformat_minor": 2
}
